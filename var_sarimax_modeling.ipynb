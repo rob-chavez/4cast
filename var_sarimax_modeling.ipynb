{
 "cells": [
  {
   "cell_type": "code",
   "execution_count": 232,
   "id": "319ef1c1-d3be-4aae-9cd6-cac13cad6c99",
   "metadata": {},
   "outputs": [],
   "source": [
    "import pandas as pd\n",
    "import seaborn as sns\n",
    "import matplotlib.pyplot as plt\n",
    "import numpy as np\n",
    "from datetime import datetime\n",
    "from sklearn.linear_model import LinearRegression\n",
    "import statsmodels.graphics.tsaplots as splt\n",
    "from statsmodels.tsa.api import VAR\n",
    "import statsmodels.tsa.seasonal as sts\n",
    "import statsmodels.api as sm\n",
    "import math\n",
    "from statsmodels.tsa.stattools import adfuller\n",
    "from statsmodels.tsa.arima.model import ARIMA, ARIMAResults\n",
    "\n",
    "#train_path = \"../favorita-grocery-sales-forecasting/train.csv\"\n",
    "train_path = \"../data/X_train_subset.csv\"\n",
    "test_path = \"../favorita-grocery-sales-forecasting/test.csv\"\n",
    "stores_path = \"../favorita-grocery-sales-forecasting/stores.csv\"\n",
    "transactions_path = \"../favorita-grocery-sales-forecasting/transactions.csv\"\n",
    "holidays_path = \"../favorita-grocery-sales-forecasting/holidays_events.csv\"\n",
    "items_path = \"../favorita-grocery-sales-forecasting/items.csv\""
   ]
  },
  {
   "cell_type": "code",
   "execution_count": 2,
   "id": "c49e441c-6868-4fb2-877f-9d30e4097f8b",
   "metadata": {},
   "outputs": [
    {
     "name": "stdout",
     "output_type": "stream",
     "text": [
      "CPU times: user 6min 53s, sys: 10.8 s, total: 7min 4s\n",
      "Wall time: 7min 4s\n"
     ]
    }
   ],
   "source": [
    "%%time\n",
    "#EDA highlights these values can be recast to optimize memory\n",
    "dtype = {'id': 'int32',\n",
    "         'item_nbr': 'int32',\n",
    "         'store_nbr': 'int8',\n",
    "         'unit_sales': 'float32'\n",
    "         }\n",
    "\n",
    "#EDA shows that 'date' indeed is a date field and should be processed as such\n",
    "parse_dates = ['date']\n",
    "date_parse = lambda x: datetime.strptime(x, '%Y-%m-%d')\n",
    "\n",
    "#REDUCED DATASET\n",
    "X_train = pd.read_csv(train_path, \n",
    "                      low_memory=False,\n",
    "                      dtype=dtype,\n",
    "                      parse_dates=parse_dates, \n",
    "                      date_parser=date_parse\n",
    "          )\n",
    "\n",
    "X_test = pd.read_csv(test_path, \n",
    "                     low_memory=False,\n",
    "                     dtype=dtype,\n",
    "                     parse_dates=parse_dates, \n",
    "                     date_parser=date_parse\n",
    "          )"
   ]
  },
  {
   "cell_type": "code",
   "execution_count": 3,
   "id": "f40c6c0b-02e1-4b20-89ee-c0b7df3bb34f",
   "metadata": {},
   "outputs": [],
   "source": [
    "X = X_train[47230504:].copy()   #REDUCE EVEN MORE GIVEN TIME TAKING TO EXPERIMENT"
   ]
  },
  {
   "cell_type": "markdown",
   "id": "a19f3d4b-5ed5-4661-898c-4b65a55b9a7f",
   "metadata": {},
   "source": [
    "<div style=\"background-color:#9FC6E5\">\n",
    "    <span style=\"font-size:25px\"> COMMENTARY  </span> <br>\n",
    "    <span style=\"font-size:15px\"> The following code aims to develop a naive baseline model that goes through each item sold, determines the average unit_sales per store, and saves that value to a dictionary object </span>\n",
    "</div>"
   ]
  },
  {
   "cell_type": "code",
   "execution_count": 381,
   "id": "b9e6f005-cc35-4031-8ea2-361d18f0ce04",
   "metadata": {},
   "outputs": [],
   "source": [
    "temp = X_train.groupby('item_nbr')\n",
    "\n",
    "baseline_model = {}\n",
    "\n",
    "for item_nbr, item_group in temp:\n",
    "    \n",
    "    #all stores that sell the item\n",
    "    stores = item_group.store_nbr.unique()  \n",
    "    \n",
    "    #for each store\n",
    "    for store_nbr in stores:\n",
    "              \n",
    "        #get mean of item's unit sales for each store\n",
    "        avg = round(item_group[item_group.store_nbr==store_nbr].unit_sales.mean(),2)\n",
    "\n",
    "        #using dictionary object with key as [item#][store#], set value to avg\n",
    "        if baseline_model.get(item_nbr, 0):\n",
    "            \n",
    "            baseline_model[item_nbr][store_nbr] = avg\n",
    "            \n",
    "        else:\n",
    "            \n",
    "            baseline_model[item_nbr] = {store_nbr: avg}"
   ]
  },
  {
   "cell_type": "code",
   "execution_count": 382,
   "id": "720509b9-7b73-4fd4-a66c-51703b94ca29",
   "metadata": {},
   "outputs": [],
   "source": [
    "def baseline(item_nbr, store_nbr):\n",
    "    \n",
    "    if baseline_model.get(item_nbr, 0):\n",
    "        sums = 0\n",
    "        n = len(baseline_model[item_nbr])\n",
    "        for k,v in baseline_model[item_nbr].items():\n",
    "            sums += v\n",
    "        avg = round(sums/n,2)\n",
    "        return_value = baseline_model[item_nbr].get(store_nbr, avg)\n",
    "        if return_value < 0:\n",
    "            return 0\n",
    "        else:\n",
    "            return return_value\n",
    "    else:\n",
    "        #if item # not found in training data--blindly submit 1 unit sale\n",
    "        return 1\n",
    "\n",
    "baseline_X_test = X_test.copy()\n",
    "baseline_X_test['unit_sales'] = [baseline(item_nbr, store_nbr) \\\n",
    "                        for item_nbr, store_nbr in zip(baseline_X_test['item_nbr'], \n",
    "                                                       baseline_X_test['store_nbr'])]"
   ]
  },
  {
   "cell_type": "code",
   "execution_count": 383,
   "id": "ef3f7e4d-5fbe-45ad-933e-fbcadcb6a8ae",
   "metadata": {},
   "outputs": [],
   "source": [
    "baseline_X_test.drop(['date', 'store_nbr', 'item_nbr', 'onpromotion'], axis=1, inplace=True)"
   ]
  },
  {
   "cell_type": "code",
   "execution_count": 384,
   "id": "4d87f7a9-b5d9-416b-94cc-302149c3ba4f",
   "metadata": {},
   "outputs": [],
   "source": [
    "baseline_X_test.to_csv(\"baseline.csv\", index=False)"
   ]
  },
  {
   "cell_type": "markdown",
   "id": "dcad2a37-15b3-498b-b981-04939802399e",
   "metadata": {},
   "source": [
    "<div style=\"background-color:#9FC6E5\">\n",
    "    <span style=\"font-size:25px\"> COMMENTARY  </span> <br>\n",
    "    <span style=\"font-size:15px\"> During EDA it was discovered that the onpromotion field had several NaN values. As semi-informed way to impute those values is the look at the probability over the course of the years that a certain item would be on sale, and then to use that probability to bernouli sample whether that item would be on sale. If time allowed, this effort would be fine-tuned by looking at the probability of an item being sold given a particular month and day of week. This field may come in handy later on in the modeling process.</span>\n",
    "</div>"
   ]
  },
  {
   "cell_type": "code",
   "execution_count": 385,
   "id": "af91f167-9710-4bfa-92ce-c2363e9eb843",
   "metadata": {},
   "outputs": [],
   "source": [
    "X_train['onpromotion_missing'] = [0 if ((promo == True) or (promo == False)) else 1 \\\n",
    "                                    for promo in X_train['onpromotion']]"
   ]
  },
  {
   "cell_type": "code",
   "execution_count": 391,
   "id": "3ac2c379-4532-49e4-b870-dad78f88e401",
   "metadata": {},
   "outputs": [],
   "source": [
    "onpromo_df = pd.DataFrame(X_train[(X_train.onpromotion == True)].item_nbr\\\n",
    "                                                                .value_counts())\\\n",
    "                                                                .reset_index()\\\n",
    "                                                                .rename(columns={'item_nbr':'onpromo_counts', \n",
    "                                                                                 'index':'item_nbr'}\n",
    "             )\n",
    "\n",
    "offpromo_df = pd.DataFrame(X_train[(X_train.onpromotion == False)].item_nbr\\\n",
    "                                                                  .value_counts())\\\n",
    "                                                                  .reset_index()\\\n",
    "                                                                  .rename(columns={'item_nbr':'offpromo_counts', \n",
    "                                                                                   'index':'item_nbr'}\n",
    "               )\n",
    "\n",
    "#get every item in the training set that has null values for onpromotion field\n",
    "items_with_null_onpromtions = X_train[X_train.onpromotion.isnull()].item_nbr.unique()\n",
    "\n",
    "#for each of those items found...\n",
    "items_prob = {}\n",
    "for i, item_nbr in enumerate(items_with_null_onpromtions):\n",
    "    \n",
    "    #get the number of times the item was found to be on promotion\n",
    "    try:\n",
    "        number_times_item_promo = onpromo_df[onpromo_df.item_nbr == item_nbr].onpromo_counts.values[0]\n",
    "    except:\n",
    "        number_times_item_promo = 0\n",
    "    \n",
    "    #get the number of times the item was found not to be on promotion\n",
    "    number_times_item_notpromo = offpromo_df[offpromo_df.item_nbr == item_nbr].offpromo_counts.values[0]\n",
    "    \n",
    "    #p is the probability that the item would be on promotion\n",
    "    p = number_times_item_promo/(number_times_item_promo + number_times_item_notpromo)\n",
    "    \n",
    "    #track items prob of being on promotion\n",
    "    items_prob[item_nbr] = p\n",
    "    \n",
    "\n",
    "\n",
    "X_train['onpromotion'] = [promo if ((promo==True) or (promo==False)) \\\n",
    "                                else bool(np.random.binomial(1, items_prob[item_nbr], 1)[0])\\\n",
    "                                for promo, item_nbr in zip(X_train['onpromotion'], X_train['item_nbr'])]\n",
    "\n",
    "\n",
    "\n"
   ]
  },
  {
   "cell_type": "markdown",
   "id": "da4faf1f-090f-4d88-92d4-1fd7f4851837",
   "metadata": {},
   "source": [
    "<div style=\"background-color:#9FC6E5\">\n",
    "    <span style=\"font-size:25px\"> Vector Autoregression Model 1   </span> <br>\n",
    "    <span style=\"font-size:15px\">   </span>\n",
    "</div>"
   ]
  },
  {
   "cell_type": "code",
   "execution_count": 387,
   "id": "32368b2a-dee3-4de4-9676-766a8a61ae82",
   "metadata": {},
   "outputs": [],
   "source": [
    "#temp_df = X_train[X_train.date.dt.year >=2016].copy()"
   ]
  },
  {
   "cell_type": "code",
   "execution_count": 388,
   "id": "b6f7bd91-a22b-4080-9f6b-18ff9eaabcbd",
   "metadata": {},
   "outputs": [],
   "source": [
    "#temp_df.to_csv(\"../data/X_train_subset.csv\")"
   ]
  },
  {
   "cell_type": "code",
   "execution_count": 390,
   "id": "2198f9c7-05c4-416e-975c-853134d5c840",
   "metadata": {},
   "outputs": [],
   "source": [
    "X = X_X_traintrain[29519066:].copy() "
   ]
  },
  {
   "cell_type": "code",
   "execution_count": 393,
   "id": "f0ea2516-63a9-40b1-b085-f8324dcbeebf",
   "metadata": {},
   "outputs": [],
   "source": [
    "X.drop('Unnamed: 0', axis=1, inplace=True)"
   ]
  },
  {
   "cell_type": "code",
   "execution_count": 394,
   "id": "f468752a-1803-44ab-880e-6f508bcfabd3",
   "metadata": {},
   "outputs": [],
   "source": [
    "items = X.groupby('item_nbr')\n",
    "\n",
    "item_stores = {}\n",
    "\n",
    "for item_nbr, item_group in items:\n",
    "    \n",
    "    df = pd.DataFrame()\n",
    "    \n",
    "    #all stores that sell the item\n",
    "    stores = item_group.groupby('store_nbr')  \n",
    "    \n",
    "    for store_nbr, store_grp in stores:\n",
    "        \n",
    "        #create a new field representing store#\n",
    "        field = store_nbr\n",
    "        \n",
    "        #mean item unit sales per day\n",
    "        stores_item_day = store_grp.groupby('date')['unit_sales'].mean()\n",
    "        \n",
    "        #fill in missing index/date values\n",
    "        date_index = pd.date_range('2017-04-26', '2017-08-15')\n",
    "        \n",
    "        #with nearest neighbors\n",
    "        stores_item_day = stores_item_day.reindex(date_index, method='nearest')\n",
    "        \n",
    "        #make series into DF\n",
    "        stores_item_day = pd.DataFrame(stores_item_day)\n",
    "        \n",
    "        #rename column with new field name\n",
    "        stores_item_day.rename(columns={'unit_sales':field}, inplace=True)\n",
    "        \n",
    "        if df.empty:\n",
    "            df = stores_item_day.copy()\n",
    "        else:\n",
    "            df = pd.concat([df, stores_item_day[field]], axis=1)\n",
    "        \n",
    "\n",
    "    item_stores[item_nbr] = df  "
   ]
  },
  {
   "cell_type": "markdown",
   "id": "d0fcfc18-e0ed-4a70-af5d-8faab9e01ab3",
   "metadata": {},
   "source": [
    "<div style=\"background-color:#9FC6E5\">\n",
    "    <span style=\"font-size:25px\"> COMMENTARY  </span> <br>\n",
    "    <span style=\"font-size:15px\">  The code above creates a design matrix representing unit sales per day of an item over time for 54 stores</span>\n",
    "</div>"
   ]
  },
  {
   "cell_type": "code",
   "execution_count": 395,
   "id": "19d71290-546b-4585-a414-d0f2b51c68ba",
   "metadata": {},
   "outputs": [
    {
     "data": {
      "text/html": [
       "<div>\n",
       "<style scoped>\n",
       "    .dataframe tbody tr th:only-of-type {\n",
       "        vertical-align: middle;\n",
       "    }\n",
       "\n",
       "    .dataframe tbody tr th {\n",
       "        vertical-align: top;\n",
       "    }\n",
       "\n",
       "    .dataframe thead th {\n",
       "        text-align: right;\n",
       "    }\n",
       "</style>\n",
       "<table border=\"1\" class=\"dataframe\">\n",
       "  <thead>\n",
       "    <tr style=\"text-align: right;\">\n",
       "      <th></th>\n",
       "      <th>1</th>\n",
       "      <th>2</th>\n",
       "      <th>3</th>\n",
       "      <th>4</th>\n",
       "      <th>6</th>\n",
       "      <th>7</th>\n",
       "      <th>8</th>\n",
       "      <th>23</th>\n",
       "      <th>24</th>\n",
       "      <th>25</th>\n",
       "      <th>...</th>\n",
       "      <th>44</th>\n",
       "      <th>45</th>\n",
       "      <th>46</th>\n",
       "      <th>47</th>\n",
       "      <th>48</th>\n",
       "      <th>49</th>\n",
       "      <th>50</th>\n",
       "      <th>51</th>\n",
       "      <th>52</th>\n",
       "      <th>53</th>\n",
       "    </tr>\n",
       "  </thead>\n",
       "  <tbody>\n",
       "    <tr>\n",
       "      <th>2017-04-26</th>\n",
       "      <td>1.0</td>\n",
       "      <td>1.0</td>\n",
       "      <td>1.0</td>\n",
       "      <td>1.0</td>\n",
       "      <td>2.0</td>\n",
       "      <td>1.0</td>\n",
       "      <td>1.0</td>\n",
       "      <td>1.0</td>\n",
       "      <td>1.0</td>\n",
       "      <td>1.0</td>\n",
       "      <td>...</td>\n",
       "      <td>5.0</td>\n",
       "      <td>6.0</td>\n",
       "      <td>1.0</td>\n",
       "      <td>2.0</td>\n",
       "      <td>1.0</td>\n",
       "      <td>7.0</td>\n",
       "      <td>1.0</td>\n",
       "      <td>4.0</td>\n",
       "      <td>2.0</td>\n",
       "      <td>2.0</td>\n",
       "    </tr>\n",
       "    <tr>\n",
       "      <th>2017-04-27</th>\n",
       "      <td>1.0</td>\n",
       "      <td>1.0</td>\n",
       "      <td>1.0</td>\n",
       "      <td>1.0</td>\n",
       "      <td>2.0</td>\n",
       "      <td>1.0</td>\n",
       "      <td>1.0</td>\n",
       "      <td>1.0</td>\n",
       "      <td>1.0</td>\n",
       "      <td>1.0</td>\n",
       "      <td>...</td>\n",
       "      <td>5.0</td>\n",
       "      <td>6.0</td>\n",
       "      <td>1.0</td>\n",
       "      <td>2.0</td>\n",
       "      <td>1.0</td>\n",
       "      <td>7.0</td>\n",
       "      <td>1.0</td>\n",
       "      <td>4.0</td>\n",
       "      <td>2.0</td>\n",
       "      <td>2.0</td>\n",
       "    </tr>\n",
       "  </tbody>\n",
       "</table>\n",
       "<p>2 rows × 25 columns</p>\n",
       "</div>"
      ],
      "text/plain": [
       "             1    2    3    4    6    7    8    23   24   25  ...   44   45  \\\n",
       "2017-04-26  1.0  1.0  1.0  1.0  2.0  1.0  1.0  1.0  1.0  1.0  ...  5.0  6.0   \n",
       "2017-04-27  1.0  1.0  1.0  1.0  2.0  1.0  1.0  1.0  1.0  1.0  ...  5.0  6.0   \n",
       "\n",
       "             46   47   48   49   50   51   52   53  \n",
       "2017-04-26  1.0  2.0  1.0  7.0  1.0  4.0  2.0  2.0  \n",
       "2017-04-27  1.0  2.0  1.0  7.0  1.0  4.0  2.0  2.0  \n",
       "\n",
       "[2 rows x 25 columns]"
      ]
     },
     "execution_count": 395,
     "metadata": {},
     "output_type": "execute_result"
    }
   ],
   "source": [
    "item_stores[99197].head(2) #EXAMPLE"
   ]
  },
  {
   "cell_type": "markdown",
   "id": "3bfe97c6-5b0c-4faa-961f-10469e88d9b5",
   "metadata": {},
   "source": [
    "<div style=\"background-color:#9FC6E5\">\n",
    "    <span style=\"font-size:25px\"> COMMENTARY  </span> <br>\n",
    "    <span style=\"font-size:15px\">  The code below creates VAR models for each item sold</span>\n",
    "</div>"
   ]
  },
  {
   "cell_type": "code",
   "execution_count": 396,
   "id": "44ddbaa6-9e4e-43a3-8cb8-73fbdab3de09",
   "metadata": {},
   "outputs": [],
   "source": [
    "item_models = {}\n",
    "reinspect = []\n",
    "constants = {}\n",
    "\n",
    "for item in X.item_nbr.unique():\n",
    "    \n",
    "    #fetch the dataframe representing items sold in each store\n",
    "    df = item_stores[item]\n",
    "    try:\n",
    "        \n",
    "        #handling fields with cardinality of 1, which the VAR model does not accept by:\n",
    "        #first identifying all stores in the dataframe\n",
    "        cols = df.columns\n",
    "        #go through each store\n",
    "        for col in cols:\n",
    "            #and if the cardinality is 1, then...\n",
    "            if len(df[col].unique()) == 1:\n",
    "                #save it to the constants dictionary, which will be used for prediction too\n",
    "                if constants.get(item,0):\n",
    "                    constants[item][col] = df[col].unique()[0]\n",
    "                else:\n",
    "                    constants[item] = {col:df[col].unique()[0]}\n",
    "                #then delete the column\n",
    "                df.drop(col, axis=1, inplace=True)\n",
    "                \n",
    "        model = VAR(df)\n",
    "        item_models[item] = model.fit(1)\n",
    "        \n",
    "    except Exception as err:\n",
    "        #the following items failed to be fitted with a VAR model warranting further inspection\n",
    "        reinspect.append(item)"
   ]
  },
  {
   "cell_type": "markdown",
   "id": "53c5d610-2c9e-4422-85e5-4c01de3468c5",
   "metadata": {},
   "source": [
    "<div style=\"background-color:#9FC6E5\">\n",
    "    <span style=\"font-size:25px\"> COMMENTARY  </span> <br>\n",
    "    <span style=\"font-size:15px\">  The reinspect variable shows a VAR model could not be created because the lack of data and only having one columns</span>\n",
    "</div>"
   ]
  },
  {
   "cell_type": "code",
   "execution_count": 397,
   "id": "2bb390e7-d330-4120-bfd4-201ce0556101",
   "metadata": {},
   "outputs": [
    {
     "data": {
      "text/plain": [
       "1066900"
      ]
     },
     "execution_count": 397,
     "metadata": {},
     "output_type": "execute_result"
    }
   ],
   "source": [
    "\n",
    "reinspect[0]"
   ]
  },
  {
   "cell_type": "code",
   "execution_count": 398,
   "id": "e4cf6685-c660-4a90-8037-932cfb27b4b8",
   "metadata": {},
   "outputs": [
    {
     "data": {
      "text/html": [
       "<div>\n",
       "<style scoped>\n",
       "    .dataframe tbody tr th:only-of-type {\n",
       "        vertical-align: middle;\n",
       "    }\n",
       "\n",
       "    .dataframe tbody tr th {\n",
       "        vertical-align: top;\n",
       "    }\n",
       "\n",
       "    .dataframe thead th {\n",
       "        text-align: right;\n",
       "    }\n",
       "</style>\n",
       "<table border=\"1\" class=\"dataframe\">\n",
       "  <thead>\n",
       "    <tr style=\"text-align: right;\">\n",
       "      <th></th>\n",
       "      <th>46</th>\n",
       "    </tr>\n",
       "  </thead>\n",
       "  <tbody>\n",
       "    <tr>\n",
       "      <th>2017-04-26</th>\n",
       "      <td>6.0</td>\n",
       "    </tr>\n",
       "    <tr>\n",
       "      <th>2017-04-27</th>\n",
       "      <td>6.0</td>\n",
       "    </tr>\n",
       "  </tbody>\n",
       "</table>\n",
       "</div>"
      ],
      "text/plain": [
       "             46\n",
       "2017-04-26  6.0\n",
       "2017-04-27  6.0"
      ]
     },
     "execution_count": 398,
     "metadata": {},
     "output_type": "execute_result"
    }
   ],
   "source": [
    "item_stores[1066900].head(2)"
   ]
  },
  {
   "cell_type": "code",
   "execution_count": 399,
   "id": "843e9083-ba57-43d4-b604-f37930422f2f",
   "metadata": {},
   "outputs": [
    {
     "data": {
      "text/plain": [
       "1116113"
      ]
     },
     "execution_count": 399,
     "metadata": {},
     "output_type": "execute_result"
    }
   ],
   "source": [
    "reinspect[1]"
   ]
  },
  {
   "cell_type": "code",
   "execution_count": 400,
   "id": "c1051411-b192-465a-b1c3-eb0e4481f47b",
   "metadata": {},
   "outputs": [
    {
     "data": {
      "text/html": [
       "<div>\n",
       "<style scoped>\n",
       "    .dataframe tbody tr th:only-of-type {\n",
       "        vertical-align: middle;\n",
       "    }\n",
       "\n",
       "    .dataframe tbody tr th {\n",
       "        vertical-align: top;\n",
       "    }\n",
       "\n",
       "    .dataframe thead th {\n",
       "        text-align: right;\n",
       "    }\n",
       "</style>\n",
       "<table border=\"1\" class=\"dataframe\">\n",
       "  <thead>\n",
       "    <tr style=\"text-align: right;\">\n",
       "      <th></th>\n",
       "      <th>21</th>\n",
       "    </tr>\n",
       "  </thead>\n",
       "  <tbody>\n",
       "    <tr>\n",
       "      <th>2017-04-26</th>\n",
       "      <td>7.0</td>\n",
       "    </tr>\n",
       "    <tr>\n",
       "      <th>2017-04-27</th>\n",
       "      <td>7.0</td>\n",
       "    </tr>\n",
       "  </tbody>\n",
       "</table>\n",
       "</div>"
      ],
      "text/plain": [
       "             21\n",
       "2017-04-26  7.0\n",
       "2017-04-27  7.0"
      ]
     },
     "execution_count": 400,
     "metadata": {},
     "output_type": "execute_result"
    }
   ],
   "source": [
    "item_stores[1116113].head(2)"
   ]
  },
  {
   "cell_type": "code",
   "execution_count": 401,
   "id": "04762b78-bc0e-40be-91ab-92011ce8543f",
   "metadata": {},
   "outputs": [
    {
     "data": {
      "text/plain": [
       "3.4642856121063232"
      ]
     },
     "execution_count": 401,
     "metadata": {},
     "output_type": "execute_result"
    }
   ],
   "source": [
    "col = item_stores[1116113].columns[0]\n",
    "series = item_stores[1116113][col]\n",
    "series.mean()"
   ]
  },
  {
   "cell_type": "code",
   "execution_count": 402,
   "id": "924bf9eb-0716-4f0e-8803-37eaece66f63",
   "metadata": {},
   "outputs": [
    {
     "data": {
      "text/html": [
       "<div>\n",
       "<style scoped>\n",
       "    .dataframe tbody tr th:only-of-type {\n",
       "        vertical-align: middle;\n",
       "    }\n",
       "\n",
       "    .dataframe tbody tr th {\n",
       "        vertical-align: top;\n",
       "    }\n",
       "\n",
       "    .dataframe thead th {\n",
       "        text-align: right;\n",
       "    }\n",
       "</style>\n",
       "<table border=\"1\" class=\"dataframe\">\n",
       "  <thead>\n",
       "    <tr style=\"text-align: right;\">\n",
       "      <th></th>\n",
       "      <th>10</th>\n",
       "      <th>13</th>\n",
       "      <th>54</th>\n",
       "    </tr>\n",
       "  </thead>\n",
       "  <tbody>\n",
       "    <tr>\n",
       "      <th>2017-08-16</th>\n",
       "      <td>10.246</td>\n",
       "      <td>5.133</td>\n",
       "      <td>2.615</td>\n",
       "    </tr>\n",
       "    <tr>\n",
       "      <th>2017-08-17</th>\n",
       "      <td>10.246</td>\n",
       "      <td>5.133</td>\n",
       "      <td>2.615</td>\n",
       "    </tr>\n",
       "    <tr>\n",
       "      <th>2017-08-18</th>\n",
       "      <td>10.246</td>\n",
       "      <td>5.133</td>\n",
       "      <td>2.615</td>\n",
       "    </tr>\n",
       "    <tr>\n",
       "      <th>2017-08-19</th>\n",
       "      <td>10.246</td>\n",
       "      <td>5.133</td>\n",
       "      <td>2.615</td>\n",
       "    </tr>\n",
       "    <tr>\n",
       "      <th>2017-08-20</th>\n",
       "      <td>10.246</td>\n",
       "      <td>5.133</td>\n",
       "      <td>2.615</td>\n",
       "    </tr>\n",
       "    <tr>\n",
       "      <th>2017-08-21</th>\n",
       "      <td>10.246</td>\n",
       "      <td>5.133</td>\n",
       "      <td>2.615</td>\n",
       "    </tr>\n",
       "    <tr>\n",
       "      <th>2017-08-22</th>\n",
       "      <td>10.246</td>\n",
       "      <td>5.133</td>\n",
       "      <td>2.615</td>\n",
       "    </tr>\n",
       "    <tr>\n",
       "      <th>2017-08-23</th>\n",
       "      <td>10.246</td>\n",
       "      <td>5.133</td>\n",
       "      <td>2.615</td>\n",
       "    </tr>\n",
       "    <tr>\n",
       "      <th>2017-08-24</th>\n",
       "      <td>10.246</td>\n",
       "      <td>5.133</td>\n",
       "      <td>2.615</td>\n",
       "    </tr>\n",
       "    <tr>\n",
       "      <th>2017-08-25</th>\n",
       "      <td>10.246</td>\n",
       "      <td>5.133</td>\n",
       "      <td>2.615</td>\n",
       "    </tr>\n",
       "    <tr>\n",
       "      <th>2017-08-26</th>\n",
       "      <td>10.246</td>\n",
       "      <td>5.133</td>\n",
       "      <td>2.615</td>\n",
       "    </tr>\n",
       "    <tr>\n",
       "      <th>2017-08-27</th>\n",
       "      <td>10.246</td>\n",
       "      <td>5.133</td>\n",
       "      <td>2.615</td>\n",
       "    </tr>\n",
       "    <tr>\n",
       "      <th>2017-08-28</th>\n",
       "      <td>10.246</td>\n",
       "      <td>5.133</td>\n",
       "      <td>2.615</td>\n",
       "    </tr>\n",
       "    <tr>\n",
       "      <th>2017-08-29</th>\n",
       "      <td>10.246</td>\n",
       "      <td>5.133</td>\n",
       "      <td>2.615</td>\n",
       "    </tr>\n",
       "    <tr>\n",
       "      <th>2017-08-30</th>\n",
       "      <td>10.246</td>\n",
       "      <td>5.133</td>\n",
       "      <td>2.615</td>\n",
       "    </tr>\n",
       "    <tr>\n",
       "      <th>2017-08-31</th>\n",
       "      <td>10.246</td>\n",
       "      <td>5.133</td>\n",
       "      <td>2.615</td>\n",
       "    </tr>\n",
       "  </tbody>\n",
       "</table>\n",
       "</div>"
      ],
      "text/plain": [
       "                10     13     54\n",
       "2017-08-16  10.246  5.133  2.615\n",
       "2017-08-17  10.246  5.133  2.615\n",
       "2017-08-18  10.246  5.133  2.615\n",
       "2017-08-19  10.246  5.133  2.615\n",
       "2017-08-20  10.246  5.133  2.615\n",
       "2017-08-21  10.246  5.133  2.615\n",
       "2017-08-22  10.246  5.133  2.615\n",
       "2017-08-23  10.246  5.133  2.615\n",
       "2017-08-24  10.246  5.133  2.615\n",
       "2017-08-25  10.246  5.133  2.615\n",
       "2017-08-26  10.246  5.133  2.615\n",
       "2017-08-27  10.246  5.133  2.615\n",
       "2017-08-28  10.246  5.133  2.615\n",
       "2017-08-29  10.246  5.133  2.615\n",
       "2017-08-30  10.246  5.133  2.615\n",
       "2017-08-31  10.246  5.133  2.615"
      ]
     },
     "execution_count": 402,
     "metadata": {},
     "output_type": "execute_result"
    }
   ],
   "source": [
    "idx = pd.date_range('2017-08-16','2017-08-31')\n",
    "pd.DataFrame(constants[903286], index=idx)"
   ]
  },
  {
   "cell_type": "code",
   "execution_count": 403,
   "id": "a4f989cc-129a-4915-a6db-c8e7975f7013",
   "metadata": {},
   "outputs": [
    {
     "name": "stderr",
     "output_type": "stream",
     "text": [
      "/opt/anaconda3/envs/csci_e83/lib/python3.9/site-packages/statsmodels/tsa/vector_ar/var_model.py:1242: RuntimeWarning: invalid value encountered in sqrt\n",
      "  sigma = np.sqrt(self._forecast_vars(steps))\n",
      "/opt/anaconda3/envs/csci_e83/lib/python3.9/site-packages/statsmodels/tsa/vector_ar/var_model.py:1242: RuntimeWarning: invalid value encountered in sqrt\n",
      "  sigma = np.sqrt(self._forecast_vars(steps))\n",
      "/opt/anaconda3/envs/csci_e83/lib/python3.9/site-packages/statsmodels/tsa/vector_ar/var_model.py:1242: RuntimeWarning: invalid value encountered in sqrt\n",
      "  sigma = np.sqrt(self._forecast_vars(steps))\n"
     ]
    }
   ],
   "source": [
    "item_forecast = {}\n",
    "items_not_modeled = []\n",
    "for item in X_test.item_nbr.unique():\n",
    "    \n",
    "    if item in reinspect:\n",
    "        col = item_stores[item].columns[0]\n",
    "        series = item_stores[item][col]\n",
    "        item_forecast[item] = series.mean()\n",
    "\n",
    "    elif item in list(constants.keys()):\n",
    "        idx = pd.date_range('2017-08-16','2017-08-31')\n",
    "        item_forecast[item] = pd.DataFrame(constants[item], index=idx)\n",
    "        \n",
    "    elif item_models.get(item, 0):\n",
    " \n",
    "        #Get item's model\n",
    "        model = item_models[item]\n",
    "        \n",
    "        #retrieve the fitted values\n",
    "        df = model.fittedvalues\n",
    "        \n",
    "        #the store numbers are equal to the column values\n",
    "        store_nbrs = df.columns\n",
    "        \n",
    "        #forecast 15 days\n",
    "        f = model.forecast_interval(y=df.values[-model.k_ar:], steps=16)\n",
    "        \n",
    "        #set up the dataframe\n",
    "        idx = pd.date_range('2017-08-16','2017-08-31')\n",
    "        df_forecast = pd.DataFrame(f[0],index=idx,columns=store_nbrs)\n",
    "        \n",
    "        item_forecast[item] = df_forecast\n",
    "        \n",
    "    else:\n",
    "        items_not_modeled.append(item)\n",
    "        "
   ]
  },
  {
   "cell_type": "code",
   "execution_count": 404,
   "id": "77b9560a-b151-47a8-a07f-6eebd30c0269",
   "metadata": {},
   "outputs": [
    {
     "data": {
      "text/plain": [
       "313094"
      ]
     },
     "execution_count": 404,
     "metadata": {},
     "output_type": "execute_result"
    }
   ],
   "source": [
    "items_not_modeled[0]"
   ]
  },
  {
   "cell_type": "code",
   "execution_count": 406,
   "id": "81e60432-f2be-4a0b-bef3-1ce973837071",
   "metadata": {},
   "outputs": [],
   "source": [
    "def forecast(date, store, item):\n",
    "    try:\n",
    "        forecasted_value = item_forecast[item][store][date]\n",
    "        if forecasted_value < 0:\n",
    "            return 1\n",
    "        else:\n",
    "            return forecasted_value\n",
    "    except:\n",
    "            forecasted_value = 1\n",
    "    return forecasted_value\n",
    "X_test['unit_sales'] = [forecast(d, s, i) for d,s,i in zip(X_test['date'],X_test['store_nbr'],X_test['item_nbr'])]"
   ]
  },
  {
   "cell_type": "code",
   "execution_count": 407,
   "id": "49d1fc40-6cc9-4c2a-97d4-c3ede4007418",
   "metadata": {},
   "outputs": [],
   "source": [
    "var1_X_test = X_test.copy()"
   ]
  },
  {
   "cell_type": "code",
   "execution_count": 408,
   "id": "87e1c721-ea03-49e1-a2ef-7b761393f989",
   "metadata": {},
   "outputs": [],
   "source": [
    "var1_X_test.drop(['date', 'store_nbr', 'item_nbr', 'onpromotion'], axis=1, inplace=True)"
   ]
  },
  {
   "cell_type": "code",
   "execution_count": 409,
   "id": "e8368a59-8de3-4d53-bdc5-eebe8df15099",
   "metadata": {},
   "outputs": [],
   "source": [
    "var1_X_test.to_csv(\"var1.csv\", index=False)"
   ]
  },
  {
   "cell_type": "code",
   "execution_count": 410,
   "id": "82f96c43-268e-436f-adfa-21c24835f5f0",
   "metadata": {},
   "outputs": [],
   "source": [
    "X_test.drop('unit_sales', axis=1, inplace=True)"
   ]
  },
  {
   "cell_type": "code",
   "execution_count": 411,
   "id": "ee49ded0-c9c5-429f-9e37-6f2c098db7d9",
   "metadata": {},
   "outputs": [],
   "source": [
    "del item_stores"
   ]
  },
  {
   "cell_type": "markdown",
   "id": "07ea4aed-7b89-43f4-954f-a225e237baa7",
   "metadata": {},
   "source": [
    "<div style=\"background-color:#9FC6E5\">\n",
    "    <span style=\"font-size:25px\"> Vector Autoregression Model 2  </span> <br>\n",
    "    <span style=\"font-size:15px\">   </span>\n",
    "</div>"
   ]
  },
  {
   "cell_type": "code",
   "execution_count": 4,
   "id": "3df4b14c-037f-4575-ae76-5230fb03b84c",
   "metadata": {},
   "outputs": [],
   "source": [
    "stores = X.groupby('store_nbr')"
   ]
  },
  {
   "cell_type": "code",
   "execution_count": 5,
   "id": "c5f0d983-089c-48c9-89bc-af74a8c4c220",
   "metadata": {},
   "outputs": [],
   "source": [
    "store_items = {}\n",
    "\n",
    "for store_nbr, store_group in stores:\n",
    "    \n",
    "    df = pd.DataFrame()\n",
    "    \n",
    "    #all items sold at this store\n",
    "    items = store_group.groupby('item_nbr') \n",
    "    \n",
    "    for item_nbr, item_grp in items:\n",
    "\n",
    "        #make the item a field name\n",
    "        field = item_nbr\n",
    "\n",
    "        #get the mean unit_sales of the item by date\n",
    "        stores_item_day = item_grp.groupby('date')['unit_sales'].mean()\n",
    "\n",
    "        #fill in missing index/date values...\n",
    "        date_index = pd.date_range('2017-04-26', '2017-08-15')\n",
    "\n",
    "        #with the nearest neighbors\n",
    "        stores_item_day = stores_item_day.reindex(date_index, method='nearest')\n",
    "\n",
    "        #make series into DF\n",
    "        stores_item_day = pd.DataFrame(stores_item_day)\n",
    "        \n",
    "        #rename column with new field name\n",
    "        stores_item_day.rename(columns={'unit_sales':field}, inplace=True)\n",
    "        \n",
    "        #add to dataframe that will be stored in dictionary object below\n",
    "        if df.empty:\n",
    "            df = stores_item_day.copy()\n",
    "        else:\n",
    "            df = pd.concat([df, stores_item_day[field]], axis=1)\n",
    "            \n",
    "       \n",
    "    store_items[store_nbr] = df"
   ]
  },
  {
   "cell_type": "code",
   "execution_count": 85,
   "id": "0440be86-8759-4234-8e4d-07ef8d0101ce",
   "metadata": {},
   "outputs": [
    {
     "data": {
      "text/html": [
       "<div>\n",
       "<style scoped>\n",
       "    .dataframe tbody tr th:only-of-type {\n",
       "        vertical-align: middle;\n",
       "    }\n",
       "\n",
       "    .dataframe tbody tr th {\n",
       "        vertical-align: top;\n",
       "    }\n",
       "\n",
       "    .dataframe thead th {\n",
       "        text-align: right;\n",
       "    }\n",
       "</style>\n",
       "<table border=\"1\" class=\"dataframe\">\n",
       "  <thead>\n",
       "    <tr style=\"text-align: right;\">\n",
       "      <th></th>\n",
       "      <th>96995</th>\n",
       "      <th>99197</th>\n",
       "      <th>103520</th>\n",
       "      <th>103665</th>\n",
       "      <th>105574</th>\n",
       "      <th>105575</th>\n",
       "      <th>105577</th>\n",
       "      <th>105693</th>\n",
       "      <th>105737</th>\n",
       "      <th>105857</th>\n",
       "      <th>...</th>\n",
       "      <th>2110456</th>\n",
       "      <th>2111684</th>\n",
       "      <th>2111870</th>\n",
       "      <th>2112404</th>\n",
       "      <th>2113343</th>\n",
       "      <th>2113914</th>\n",
       "      <th>2114566</th>\n",
       "      <th>2116416</th>\n",
       "      <th>2122188</th>\n",
       "      <th>2124052</th>\n",
       "    </tr>\n",
       "  </thead>\n",
       "  <tbody>\n",
       "    <tr>\n",
       "      <th>2017-04-26</th>\n",
       "      <td>1.0</td>\n",
       "      <td>1.0</td>\n",
       "      <td>2.0</td>\n",
       "      <td>3.0</td>\n",
       "      <td>10.0</td>\n",
       "      <td>4.0</td>\n",
       "      <td>3.0</td>\n",
       "      <td>3.0</td>\n",
       "      <td>1.0</td>\n",
       "      <td>4.0</td>\n",
       "      <td>...</td>\n",
       "      <td>3.0</td>\n",
       "      <td>8.0</td>\n",
       "      <td>8.0</td>\n",
       "      <td>8.0</td>\n",
       "      <td>4.0</td>\n",
       "      <td>6.0</td>\n",
       "      <td>1.0</td>\n",
       "      <td>3.0</td>\n",
       "      <td>3.0</td>\n",
       "      <td>1.0</td>\n",
       "    </tr>\n",
       "    <tr>\n",
       "      <th>2017-04-27</th>\n",
       "      <td>1.0</td>\n",
       "      <td>1.0</td>\n",
       "      <td>2.0</td>\n",
       "      <td>3.0</td>\n",
       "      <td>10.0</td>\n",
       "      <td>4.0</td>\n",
       "      <td>3.0</td>\n",
       "      <td>3.0</td>\n",
       "      <td>1.0</td>\n",
       "      <td>4.0</td>\n",
       "      <td>...</td>\n",
       "      <td>3.0</td>\n",
       "      <td>8.0</td>\n",
       "      <td>8.0</td>\n",
       "      <td>8.0</td>\n",
       "      <td>4.0</td>\n",
       "      <td>6.0</td>\n",
       "      <td>1.0</td>\n",
       "      <td>3.0</td>\n",
       "      <td>3.0</td>\n",
       "      <td>1.0</td>\n",
       "    </tr>\n",
       "  </tbody>\n",
       "</table>\n",
       "<p>2 rows × 3039 columns</p>\n",
       "</div>"
      ],
      "text/plain": [
       "            96995    99197    103520   103665   105574   105575   105577   \\\n",
       "2017-04-26      1.0      1.0      2.0      3.0     10.0      4.0      3.0   \n",
       "2017-04-27      1.0      1.0      2.0      3.0     10.0      4.0      3.0   \n",
       "\n",
       "            105693   105737   105857   ...  2110456  2111684  2111870  \\\n",
       "2017-04-26      3.0      1.0      4.0  ...      3.0      8.0      8.0   \n",
       "2017-04-27      3.0      1.0      4.0  ...      3.0      8.0      8.0   \n",
       "\n",
       "            2112404  2113343  2113914  2114566  2116416  2122188  2124052  \n",
       "2017-04-26      8.0      4.0      6.0      1.0      3.0      3.0      1.0  \n",
       "2017-04-27      8.0      4.0      6.0      1.0      3.0      3.0      1.0  \n",
       "\n",
       "[2 rows x 3039 columns]"
      ]
     },
     "execution_count": 85,
     "metadata": {},
     "output_type": "execute_result"
    }
   ],
   "source": [
    "store_items[1].head(2)"
   ]
  },
  {
   "cell_type": "code",
   "execution_count": 6,
   "id": "bd86c891-bd74-49a6-bd3a-3a77f84e7e62",
   "metadata": {},
   "outputs": [],
   "source": [
    "store_models = {}\n",
    "reinspect = []\n",
    "constants = {}\n",
    "\n",
    "#go through each store\n",
    "for store in X.store_nbr.unique():\n",
    "    \n",
    "    #fetch the dataframe built in the code cell above made up of store's daily unit sales of items\n",
    "    df = store_items[store]\n",
    "    \n",
    "    try:\n",
    "        \n",
    "        #the VAR model does not accept fields with cardinality of 1 or 2, \n",
    "        #so remove those as constant predictions:\n",
    "        items = df.columns\n",
    "        \n",
    "        #go through each item\n",
    "        for item in items:\n",
    "            \n",
    "            #if the item has the same sales cardinality of 1 or 2, then...\n",
    "            if len(df[item].unique()) == 1 or len(df[item].unique()) == 2:\n",
    "                \n",
    "                #save it to the constants dictionary, which will be used for prediction\n",
    "                if constants.get(store,0):\n",
    "                    constants[store][item] = df[item].unique()[0]\n",
    "                else:\n",
    "                    constants[store] = {item:df[item].unique()[0]}\n",
    "                    \n",
    "                #then delete the column\n",
    "                df.drop(item, axis=1, inplace=True)\n",
    "        \n",
    "        #create the VAR model\n",
    "        model = VAR(df)\n",
    "        \n",
    "        #fit it\n",
    "        store_models[store] = model.fit(1)\n",
    "        \n",
    "    except Exception as err:\n",
    "        print(err)\n",
    "        #the following items failed to be fitted with a VAR model warranting further inspection\n",
    "        reinspect.append(store)"
   ]
  },
  {
   "cell_type": "code",
   "execution_count": 95,
   "id": "78d96905-81db-492a-81f7-0675705e2b5c",
   "metadata": {},
   "outputs": [
    {
     "data": {
      "text/plain": [
       "<statsmodels.tsa.vector_ar.var_model.VARResultsWrapper at 0x7ff0d8a632e0>"
      ]
     },
     "execution_count": 95,
     "metadata": {},
     "output_type": "execute_result"
    }
   ],
   "source": [
    "store_models[1]"
   ]
  },
  {
   "cell_type": "code",
   "execution_count": 100,
   "id": "a6fc2f76-2f0c-446f-861d-9684a1e4b392",
   "metadata": {},
   "outputs": [
    {
     "data": {
      "text/plain": [
       "[]"
      ]
     },
     "execution_count": 100,
     "metadata": {},
     "output_type": "execute_result"
    }
   ],
   "source": [
    "reinspect"
   ]
  },
  {
   "cell_type": "code",
   "execution_count": 8,
   "id": "64b24038-e46d-4456-978b-0e2e099cf6be",
   "metadata": {},
   "outputs": [],
   "source": [
    "store_forecast = {}\n",
    "stores_not_modeled = []\n",
    "for store in X.store_nbr.unique():\n",
    "    \n",
    "    if store_models.get(store, 0):\n",
    " \n",
    "        #Get item's model\n",
    "        model = store_models[store]\n",
    "        \n",
    "        #retrieve the fitted values\n",
    "        df = model.fittedvalues\n",
    "        \n",
    "        #the store numbers are equal to the column values\n",
    "        items = df.columns\n",
    "        \n",
    "        #forecast 15 days\n",
    "        f = model.forecast_interval(y=df.values[-model.k_ar:], steps=16)\n",
    "        \n",
    "        #set up the dataframe\n",
    "        idx = pd.date_range('2017-08-16','2017-08-31')\n",
    "        df_forecast = pd.DataFrame(f[0],index=idx,columns=items)\n",
    "        \n",
    "        store_forecast[store] = df_forecast\n",
    "        \n",
    "    else:\n",
    "        stores_not_modeled.append(store)"
   ]
  },
  {
   "cell_type": "code",
   "execution_count": 10,
   "id": "26f99ba6-65cb-4e1d-97b8-9e47efbb4dbc",
   "metadata": {},
   "outputs": [],
   "source": [
    "#some items are new and no history of unit sales exists. \n",
    "#An attempt to guess the unit sales of these items is to look \n",
    "#at what family they belong to\n",
    "items_df = pd.read_csv(items_path)\n",
    "average_unit_sale_of_familytype_with_promo = {}\n",
    "average_unit_sale_of_familytype_without_promo ={}\n",
    "X_with_items = X.merge(items_df, on=['item_nbr'], how='inner')\n",
    "\n",
    "X_with_items_on_promo = X_with_items[X_with_items.onpromotion == True]\n",
    "X_with_items_on_promo_family = X_with_items_on_promo.groupby(\"family\")\n",
    "for family_name, family_group in X_with_items_on_promo_family:\n",
    "    average_unit_sale_of_familytype_with_promo[family_name] = family_group.unit_sales.mean()\n",
    "\n",
    "X_with_items_not_promo = X_with_items[X_with_items.onpromotion == False]\n",
    "X_with_items_not_promo_family = X_with_items_not_promo.groupby(\"family\")\n",
    "for family_name, family_group in X_with_items_not_promo_family:\n",
    "    average_unit_sale_of_familytype_without_promo[family_name] = family_group.unit_sales.mean()"
   ]
  },
  {
   "cell_type": "code",
   "execution_count": 12,
   "id": "0f09f49d-fe8c-41c0-af5c-df384a15f9ed",
   "metadata": {},
   "outputs": [
    {
     "data": {
      "text/plain": [
       "{'AUTOMOTIVE': 1.6052312850952148,\n",
       " 'BABY CARE': 1.6169590950012207,\n",
       " 'BEAUTY': 1.9257704019546509,\n",
       " 'BEVERAGES': 10.227813720703125,\n",
       " 'BOOKS': 1.2333333492279053,\n",
       " 'BREAD/BAKERY': 7.933053970336914,\n",
       " 'CELEBRATION': 1.97347891330719,\n",
       " 'CLEANING': 4.761221408843994,\n",
       " 'DAIRY': 6.33254337310791,\n",
       " 'DELI': 5.688411712646484,\n",
       " 'EGGS': 8.853487014770508,\n",
       " 'FROZEN FOODS': 6.798976421356201,\n",
       " 'GROCERY I': 6.208569526672363,\n",
       " 'GROCERY II': 6.803553581237793,\n",
       " 'HARDWARE': 1.5102143287658691,\n",
       " 'HOME AND KITCHEN I': 2.6738767623901367,\n",
       " 'HOME AND KITCHEN II': 2.2579782009124756,\n",
       " 'HOME APPLIANCES': 1.6244251728057861,\n",
       " 'HOME CARE': 4.432539463043213,\n",
       " 'LADIESWEAR': 2.202646017074585,\n",
       " 'LAWN AND GARDEN': 3.5345726013183594,\n",
       " 'LINGERIE': 1.955878734588623,\n",
       " 'LIQUOR,WINE,BEER': 5.411430358886719,\n",
       " 'MAGAZINES': 2.664297342300415,\n",
       " 'MEATS': 11.385858535766602,\n",
       " 'PERSONAL CARE': 4.1551713943481445,\n",
       " 'PET SUPPLIES': 2.25636887550354,\n",
       " 'PLAYERS AND ELECTRONICS': 2.048719882965088,\n",
       " 'POULTRY': 14.238899230957031,\n",
       " 'PREPARED FOODS': 13.115182876586914,\n",
       " 'PRODUCE': 15.335675239562988,\n",
       " 'SCHOOL AND OFFICE SUPPLIES': 2.550591468811035,\n",
       " 'SEAFOOD': 6.305495262145996}"
      ]
     },
     "execution_count": 12,
     "metadata": {},
     "output_type": "execute_result"
    }
   ],
   "source": [
    "average_unit_sale_of_familytype_without_promo"
   ]
  },
  {
   "cell_type": "code",
   "execution_count": 13,
   "id": "4df232ba-1f51-48f6-8534-6d054cd3f6e3",
   "metadata": {},
   "outputs": [],
   "source": [
    "item_family_map = {}\n",
    "for index, row in X_with_items.iterrows():\n",
    "    item_family_map[row['item_nbr']] = row['family']"
   ]
  },
  {
   "cell_type": "code",
   "execution_count": 111,
   "id": "d2457d38-9a07-4216-be1d-ad07617bcdf3",
   "metadata": {},
   "outputs": [
    {
     "data": {
      "text/plain": [
       "array(['D', 'B', 'C', 'E', 'A'], dtype=object)"
      ]
     },
     "execution_count": 111,
     "metadata": {},
     "output_type": "execute_result"
    }
   ],
   "source": [
    "store_df.type.unique()"
   ]
  },
  {
   "cell_type": "code",
   "execution_count": 37,
   "id": "dc197c46-780a-4454-ad70-f3e5effc4ffc",
   "metadata": {},
   "outputs": [
    {
     "data": {
      "text/html": [
       "<div>\n",
       "<style scoped>\n",
       "    .dataframe tbody tr th:only-of-type {\n",
       "        vertical-align: middle;\n",
       "    }\n",
       "\n",
       "    .dataframe tbody tr th {\n",
       "        vertical-align: top;\n",
       "    }\n",
       "\n",
       "    .dataframe thead th {\n",
       "        text-align: right;\n",
       "    }\n",
       "</style>\n",
       "<table border=\"1\" class=\"dataframe\">\n",
       "  <thead>\n",
       "    <tr style=\"text-align: right;\">\n",
       "      <th></th>\n",
       "      <th>Unnamed: 0</th>\n",
       "      <th>id</th>\n",
       "      <th>date</th>\n",
       "      <th>store_nbr</th>\n",
       "      <th>item_nbr</th>\n",
       "      <th>unit_sales</th>\n",
       "      <th>onpromotion</th>\n",
       "      <th>family</th>\n",
       "      <th>class</th>\n",
       "      <th>perishable</th>\n",
       "      <th>city</th>\n",
       "      <th>state</th>\n",
       "      <th>type</th>\n",
       "      <th>cluster</th>\n",
       "    </tr>\n",
       "  </thead>\n",
       "  <tbody>\n",
       "    <tr>\n",
       "      <th>0</th>\n",
       "      <td>113689412</td>\n",
       "      <td>113689412</td>\n",
       "      <td>2017-04-26</td>\n",
       "      <td>28</td>\n",
       "      <td>1281253</td>\n",
       "      <td>2.0</td>\n",
       "      <td>False</td>\n",
       "      <td>GROCERY I</td>\n",
       "      <td>1056</td>\n",
       "      <td>0</td>\n",
       "      <td>Guayaquil</td>\n",
       "      <td>Guayas</td>\n",
       "      <td>E</td>\n",
       "      <td>10</td>\n",
       "    </tr>\n",
       "    <tr>\n",
       "      <th>1</th>\n",
       "      <td>113791012</td>\n",
       "      <td>113791012</td>\n",
       "      <td>2017-04-27</td>\n",
       "      <td>28</td>\n",
       "      <td>1281253</td>\n",
       "      <td>3.0</td>\n",
       "      <td>False</td>\n",
       "      <td>GROCERY I</td>\n",
       "      <td>1056</td>\n",
       "      <td>0</td>\n",
       "      <td>Guayaquil</td>\n",
       "      <td>Guayas</td>\n",
       "      <td>E</td>\n",
       "      <td>10</td>\n",
       "    </tr>\n",
       "  </tbody>\n",
       "</table>\n",
       "</div>"
      ],
      "text/plain": [
       "   Unnamed: 0         id       date  store_nbr  item_nbr  unit_sales  \\\n",
       "0   113689412  113689412 2017-04-26         28   1281253         2.0   \n",
       "1   113791012  113791012 2017-04-27         28   1281253         3.0   \n",
       "\n",
       "   onpromotion     family  class  perishable       city   state type  cluster  \n",
       "0        False  GROCERY I   1056           0  Guayaquil  Guayas    E       10  \n",
       "1        False  GROCERY I   1056           0  Guayaquil  Guayas    E       10  "
      ]
     },
     "execution_count": 37,
     "metadata": {},
     "output_type": "execute_result"
    }
   ],
   "source": [
    "X_with_items_stores = X_with_items.merge(store_df, on='store_nbr', how='inner')"
   ]
  },
  {
   "cell_type": "code",
   "execution_count": 43,
   "id": "9832a82c-73fd-44ab-9df0-5fa05c79b688",
   "metadata": {},
   "outputs": [],
   "source": [
    "store_type_map = {}\n",
    "for store_name, store_group in X_with_items_stores.groupby('store_nbr'):\n",
    "    store_type = store_group.type.unique()[0]\n",
    "    store_type_map[store_name] = store_type"
   ]
  },
  {
   "cell_type": "code",
   "execution_count": 64,
   "id": "6b9be0a8-3221-411f-86f5-6416062bea27",
   "metadata": {},
   "outputs": [],
   "source": [
    "def forecast(date, store, item, promo):\n",
    "    \n",
    "    try:\n",
    "        forecasted_value = store_forecast[store][item][date]\n",
    "        if forecasted_value < 0:\n",
    "            return 1\n",
    "        else:\n",
    "            return forecasted_value\n",
    "    except:\n",
    "        \n",
    "        try:         \n",
    "            forecasted_value = constants[store][item]\n",
    "            return forecasted_value\n",
    "        except:\n",
    "            \n",
    "            stores = list(range(1,55))\n",
    "            for s in stores:\n",
    "                try:\n",
    "                    forecasted_value = store_forecast[s][item][date]\n",
    "                    return forecasted_value\n",
    "                except: \n",
    "                    pass\n",
    "            return 1\n",
    "\n",
    "\n",
    "X_test['unit_sales'] = [forecast(d, s, i, p) for d,s,i,p in zip(X_test['date'], X_test['store_nbr'],\n",
    "                                                                X_test['item_nbr'], X_test['onpromotion'])]"
   ]
  },
  {
   "cell_type": "code",
   "execution_count": 61,
   "id": "23ccaac9-3c89-44e4-a786-76690a579be4",
   "metadata": {},
   "outputs": [],
   "source": [
    "var4_X_test = X_test.copy()\n",
    "var4_X_test.drop(['date', 'store_nbr', 'item_nbr', 'onpromotion'], axis=1, inplace=True)\n",
    "var4_X_test.to_csv(\"var4.csv\", index=False)"
   ]
  },
  {
   "cell_type": "markdown",
   "id": "a63e6ea8-6db5-4c07-a9e0-5d36ed1cdd9d",
   "metadata": {},
   "source": [
    "<div style=\"background-color:#EEB89F\">\n",
    "    <span style=\"font-size:40px\"> COMMENTARY  </span> \n",
    "    </br>\n",
    "    <span style=\"font-size:20px\"> 1. For this section, plans is to expirement with Dr. Elston's suggestion of using Vector Autoregression (VAR). To complete this step, I need to create columns representing each store and its transaction. Then, as a test I can use the VAR model on the data after adjusting the series for unit variance, detrending, and adjusting for seasonality  </span>\n",
    "</div>"
   ]
  },
  {
   "cell_type": "code",
   "execution_count": 200,
   "id": "dba42cce-9fd4-49c1-bcef-c81459988834",
   "metadata": {},
   "outputs": [],
   "source": [
    "transactions_df = pd.read_csv(transactions_path)"
   ]
  },
  {
   "cell_type": "code",
   "execution_count": 201,
   "id": "c55e77f3-6e4d-4f0b-89c1-0734c040d0e2",
   "metadata": {},
   "outputs": [
    {
     "data": {
      "text/html": [
       "<div>\n",
       "<style scoped>\n",
       "    .dataframe tbody tr th:only-of-type {\n",
       "        vertical-align: middle;\n",
       "    }\n",
       "\n",
       "    .dataframe tbody tr th {\n",
       "        vertical-align: top;\n",
       "    }\n",
       "\n",
       "    .dataframe thead th {\n",
       "        text-align: right;\n",
       "    }\n",
       "</style>\n",
       "<table border=\"1\" class=\"dataframe\">\n",
       "  <thead>\n",
       "    <tr style=\"text-align: right;\">\n",
       "      <th></th>\n",
       "      <th>date</th>\n",
       "      <th>store_nbr</th>\n",
       "      <th>transactions</th>\n",
       "    </tr>\n",
       "  </thead>\n",
       "  <tbody>\n",
       "    <tr>\n",
       "      <th>76342</th>\n",
       "      <td>2017-04-05</td>\n",
       "      <td>22</td>\n",
       "      <td>761</td>\n",
       "    </tr>\n",
       "    <tr>\n",
       "      <th>40022</th>\n",
       "      <td>2015-05-04</td>\n",
       "      <td>33</td>\n",
       "      <td>1147</td>\n",
       "    </tr>\n",
       "    <tr>\n",
       "      <th>52750</th>\n",
       "      <td>2016-01-10</td>\n",
       "      <td>44</td>\n",
       "      <td>5220</td>\n",
       "    </tr>\n",
       "  </tbody>\n",
       "</table>\n",
       "</div>"
      ],
      "text/plain": [
       "             date  store_nbr  transactions\n",
       "76342  2017-04-05         22           761\n",
       "40022  2015-05-04         33          1147\n",
       "52750  2016-01-10         44          5220"
      ]
     },
     "execution_count": 201,
     "metadata": {},
     "output_type": "execute_result"
    }
   ],
   "source": [
    "transactions_df.sample(3)"
   ]
  },
  {
   "cell_type": "code",
   "execution_count": 202,
   "id": "2e3f069c-cdd3-4406-beb6-dea3419bd461",
   "metadata": {},
   "outputs": [],
   "source": [
    "transactions_df['date'] = pd.to_datetime(transactions_df['date'], format='%Y-%m-%d').dt.tz_localize(None)"
   ]
  },
  {
   "cell_type": "code",
   "execution_count": 203,
   "id": "419a0a97-7383-4476-ab5c-38e1492a5466",
   "metadata": {},
   "outputs": [
    {
     "data": {
      "text/html": [
       "<div>\n",
       "<style scoped>\n",
       "    .dataframe tbody tr th:only-of-type {\n",
       "        vertical-align: middle;\n",
       "    }\n",
       "\n",
       "    .dataframe tbody tr th {\n",
       "        vertical-align: top;\n",
       "    }\n",
       "\n",
       "    .dataframe thead th {\n",
       "        text-align: right;\n",
       "    }\n",
       "</style>\n",
       "<table border=\"1\" class=\"dataframe\">\n",
       "  <thead>\n",
       "    <tr style=\"text-align: right;\">\n",
       "      <th></th>\n",
       "      <th>date</th>\n",
       "      <th>store_nbr</th>\n",
       "      <th>transactions</th>\n",
       "    </tr>\n",
       "  </thead>\n",
       "  <tbody>\n",
       "    <tr>\n",
       "      <th>0</th>\n",
       "      <td>2013-01-01</td>\n",
       "      <td>25</td>\n",
       "      <td>770</td>\n",
       "    </tr>\n",
       "    <tr>\n",
       "      <th>1</th>\n",
       "      <td>2013-01-02</td>\n",
       "      <td>1</td>\n",
       "      <td>2111</td>\n",
       "    </tr>\n",
       "    <tr>\n",
       "      <th>2</th>\n",
       "      <td>2013-01-02</td>\n",
       "      <td>2</td>\n",
       "      <td>2358</td>\n",
       "    </tr>\n",
       "  </tbody>\n",
       "</table>\n",
       "</div>"
      ],
      "text/plain": [
       "        date  store_nbr  transactions\n",
       "0 2013-01-01         25           770\n",
       "1 2013-01-02          1          2111\n",
       "2 2013-01-02          2          2358"
      ]
     },
     "execution_count": 203,
     "metadata": {},
     "output_type": "execute_result"
    }
   ],
   "source": [
    "transactions_df.head(3)"
   ]
  },
  {
   "cell_type": "markdown",
   "id": "b5502e67-e582-4571-ad69-1273252e605a",
   "metadata": {},
   "source": [
    "<div style=\"background-color:#EEB89F\">\n",
    "    <span style=\"font-size:40px\"> COMMENTARY  </span> \n",
    "    </br>\n",
    "    <span style=\"font-size:20px\"> 1. The plot below shows store 44's daily transactions before any adjustments  </span>\n",
    "</div>"
   ]
  },
  {
   "cell_type": "code",
   "execution_count": 204,
   "id": "101f564a-26b5-4186-b18a-679978d78e0a",
   "metadata": {},
   "outputs": [
    {
     "data": {
      "text/plain": [
       "<AxesSubplot:xlabel='date'>"
      ]
     },
     "execution_count": 204,
     "metadata": {},
     "output_type": "execute_result"
    },
    {
     "data": {
      "image/png": "[encoded data removed]",
      "text/plain": [
       "<Figure size 432x288 with 1 Axes>"
      ]
     },
     "metadata": {
      "needs_background": "light"
     },
     "output_type": "display_data"
    }
   ],
   "source": [
    "transactions_df.groupby(['store_nbr', 'date'])['transactions'].mean()[44].plot()"
   ]
  },
  {
   "cell_type": "markdown",
   "id": "6ad0dccc-08bb-4c87-bce3-a5fd355657f7",
   "metadata": {},
   "source": [
    "<div style=\"background-color:#EEB89F\">\n",
    "    <span style=\"font-size:40px\"> COMMENTARY  </span> \n",
    "    </br>\n",
    "    <span style=\"font-size:20px\"> 1. Now the code for making the adjustments  </span>\n",
    "</div>"
   ]
  },
  {
   "cell_type": "code",
   "execution_count": 205,
   "id": "a36d12c7-4e3b-4811-b248-1bebdf258038",
   "metadata": {},
   "outputs": [],
   "source": [
    "holiday_df = pd.read_csv(holidays_path)\n",
    "weekdays = {0:'Monday', 1:'Tuesday', 2:'Wednesday', 3:'Thursday', \n",
    "        4:'Friday', 5:'Saturday', 6:'Sunday'}\n",
    "months = {1:'Jan', 2:'Feb', 3:'Mar', 4:'Apr', \n",
    "      5:'May', 6:'Jun', 7:'Jul',\n",
    "      8: 'Aug', 9:'Sep', 10:'Oct', 11:'Nov',\n",
    "      12:'Dec'}\n",
    "\n",
    "Hs = list(holiday_df['date'].unique())\n",
    "\n",
    "new_years_2 = ['2013-12-30', '2014-12-30', '2015-12-30', '2016-12-30', '2017-12-30']\n",
    "new_years_1 = ['2013-12-31', '2014-12-31', '2015-12-31', '2016-12-31', '2017-12-31']\n",
    "new_years_0 = ['2013-01-01', '2014-01-01', '2015-01-01', '2016-01-01','2017-01-01', \n",
    "               '2016-01-04']\n",
    "\n",
    "mothers_day_celebrations =['2013-05-11', '2014-05-10','2015-05-09','2016-05-07', \n",
    "                           '2017-05-13']\n",
    "\n",
    "Navidad_6 = ['2013-12-19', '2014-12-19', '2015-12-19', '2016-12-19', '2017-12-19']\n",
    "Navidad_5 = ['2013-12-20', '2014-12-20', '2015-12-20', '2016-12-20', '2017-12-20']\n",
    "Navidad_4 = ['2013-12-21', '2014-12-21', '2015-12-21', '2016-12-21', '2017-12-21']\n",
    "Navidad_3 = ['2014-12-22', '2015-12-22', '2016-12-22', '2017-12-22']\n",
    "Navidad_2 = ['2013-12-23', '2014-12-23', '2015-12-23', '2016-12-23', '2017-12-23']\n",
    "Navidad_1 = ['2013-12-24', '2014-12-24', '2015-12-24', '2016-12-24', '2017-12-24']\n",
    "Navidad_0 = ['2013-12-25', '2014-12-25', '2015-12-25', '2016-12-25', '2017-12-25']\n",
    "Navidadp1 = ['2013-12-26', '2014-12-26', '2015-12-26', '2016-12-26', '2017-12-26']\n",
    "\n",
    "\n",
    "significant_dates = new_years_0 + new_years_1 + new_years_2 + \\\n",
    "                    mothers_day_celebrations + Navidad_4 + Navidad_3 + \\\n",
    "                    Navidad_2 + Navidad_1 + Navidad_0 + Navidadp1\n",
    "\n",
    "holidays = []\n",
    "for h in Hs:\n",
    "    if h not in significant_dates:\n",
    "        holidays.append(h)\n",
    "        \n",
    "categorical_features = ['day_of_week', 'month', 'year']\n",
    "numerical_features = ['holiday', 'new_years_1_2', 'new_year', 'mothers_celebration',\n",
    "                      'Navidad_6', 'Navidad_5', 'Navidad_4', 'Navidad_3', 'Navidad_2', 'Navidad_1', 'Navidad_0', 'Navidadp1']"
   ]
  },
  {
   "cell_type": "code",
   "execution_count": 206,
   "id": "b4aecb46-e8e2-41a1-a56d-a6bf990e1e45",
   "metadata": {},
   "outputs": [],
   "source": [
    "df = pd.DataFrame()\n",
    "\n",
    "for store_num, store_grp in transactions_df.groupby('store_nbr'):\n",
    "    #get the mean unit_sales of the item by date\n",
    "    s = store_grp.groupby('date')['transactions'].mean()\n",
    "\n",
    "    #fill in missing index/date values...\n",
    "    date_index = pd.date_range('2013-01-01', '2017-08-15')\n",
    "\n",
    "    #with the nearest neighbors\n",
    "    s = s.reindex(date_index, method='nearest')\n",
    "\n",
    "    #make series into DF\n",
    "    s = pd.DataFrame(s).rename(columns={\"transactions\": store_num})\n",
    "    \n",
    "    \n",
    "    #ADJUST SERIES FOR UNIT VARIANCE\n",
    "    mean_transaction = s[store_num].mean()\n",
    "    std_transaction = s[store_num].std()\n",
    "    transactions_wUnitVariance = (s[store_num] - mean_transaction)/std_transaction\n",
    "    s[store_num] = transactions_wUnitVariance\n",
    "    \n",
    "    #REMOVE TREND\n",
    "    baseDF = s.copy()\n",
    "    t_times = len(baseDF.index)\n",
    "    baseDF['time_t'] = np.arange(t_times)\n",
    "    time_t = baseDF.loc[:, ['time_t']]\n",
    "    y = baseDF.loc[:, store_num]\n",
    "    y, time_t = y.align(time_t, join='inner')  \n",
    "    reg = LinearRegression().fit(time_t, y)\n",
    "    trend = pd.Series(reg.predict(time_t), index=time_t.index)\n",
    "    y_untrended = y - trend\n",
    "    s[store_num] = y_untrended\n",
    "    \n",
    "    #ADJUSTED FOR SEASON\n",
    "    s['day_of_week'] = [day for day in s.index.day]\n",
    "    s['month'] = [month for month in s.index.month]\n",
    "    s['year'] = [year for year in s.index.year]\n",
    "    s['holiday'] = [1 if (holiday in holidays) else 0 for holiday in s.index.values]\n",
    "    s['new_years_1_2'] = [1 if (str(ny)[:-len(\"T00:00:00.000000000\")] in new_years_1 + new_years_2) else 0 for ny in s.index.values]\n",
    "    s['new_year'] = [1 if (str(ny)[:-len(\"T00:00:00.000000000\")] in new_years_0) else 0 for ny in s.index.values]\n",
    "    s['mothers_celebration'] = [1 if (str(day)[:-len(\"T00:00:00.000000000\")] in mothers_day_celebrations) else 0 for day in s.index.values]\n",
    "    s['Navidad_6'] = [1 if (str(day)[:-len(\"T00:00:00.000000000\")] in Navidad_6) else 0 for day in s.index.values]\n",
    "    s['Navidad_5'] = [1 if (str(day)[:-len(\"T00:00:00.000000000\")] in Navidad_5) else 0 for day in s.index.values]\n",
    "    s['Navidad_4'] = [1 if (str(day)[:-len(\"T00:00:00.000000000\")] in Navidad_4) else 0 for day in s.index.values]\n",
    "    s['Navidad_3'] = [1 if (str(day)[:-len(\"T00:00:00.000000000\")] in Navidad_3) else 0 for day in s.index.values]\n",
    "    s['Navidad_2'] = [1 if (str(day)[:-len(\"T00:00:00.000000000\")] in Navidad_2) else 0 for day in s.index.values]\n",
    "    s['Navidad_1'] = [1 if (str(day)[:-len(\"T00:00:00.000000000\")] in Navidad_1) else 0 for day in s.index.values]\n",
    "    s['Navidad_0'] = [1 if (str(day)[:-len(\"T00:00:00.000000000\")] in Navidad_0) else 0 for day in s.index.values]\n",
    "    s['Navidadp1'] = [1 if (str(day)[:-len(\"T00:00:00.000000000\")] in Navidadp1) else 0 for day in s.index.values]\n",
    "    #break out of categorical and numerical values\n",
    "    temp = pd.get_dummies(s, columns = categorical_features, drop_first = True)\n",
    "    wanted_fields = [ 'holiday',       'new_years_1_2',\n",
    "                  'new_year', 'mothers_celebration',           'Navidad_6',\n",
    "                 'Navidad_5',           'Navidad_4',           'Navidad_3',\n",
    "                 'Navidad_2',           'Navidad_1',           'Navidad_0',\n",
    "                 'Navidadp1',       'day_of_week_2',       'day_of_week_3',\n",
    "             'day_of_week_4',       'day_of_week_5',       'day_of_week_6',\n",
    "             'day_of_week_7',       'day_of_week_8',       'day_of_week_9',\n",
    "            'day_of_week_10',      'day_of_week_11',      'day_of_week_12',\n",
    "            'day_of_week_13',      'day_of_week_14',      'day_of_week_15',\n",
    "            'day_of_week_16',      'day_of_week_17',      'day_of_week_18',\n",
    "            'day_of_week_19',      'day_of_week_20',      'day_of_week_21',\n",
    "            'day_of_week_22',      'day_of_week_23',      'day_of_week_24',\n",
    "            'day_of_week_25',      'day_of_week_26',      'day_of_week_27',\n",
    "            'day_of_week_28',      'day_of_week_29',      'day_of_week_30',\n",
    "            'day_of_week_31',             'month_2',             'month_3',\n",
    "                   'month_4',             'month_5',             'month_6',\n",
    "                   'month_7',             'month_8',             'month_9',\n",
    "                  'month_10',            'month_11',            'month_12',\n",
    "                 'year_2014',           'year_2015',           'year_2016',\n",
    "                 'year_2017']\n",
    "    X = temp[wanted_fields].copy()\n",
    "    t_times = len(X.index)\n",
    "    X['time_t'] = np.arange(t_times)\n",
    "    y = temp.loc[:, store_num].copy()\n",
    "    reg = LinearRegression().fit(X, y)\n",
    "    season = pd.Series(reg.predict(X), index=X.index)\n",
    "    unseasoned = y - season\n",
    "    s[store_num] = unseasoned \n",
    "    df = pd.concat([df, s[store_num]], axis=1)"
   ]
  },
  {
   "cell_type": "code",
   "execution_count": 220,
   "id": "a3099322-5ed5-4f1f-b373-d99adecb92f0",
   "metadata": {},
   "outputs": [
    {
     "data": {
      "text/html": [
       "<div>\n",
       "<style scoped>\n",
       "    .dataframe tbody tr th:only-of-type {\n",
       "        vertical-align: middle;\n",
       "    }\n",
       "\n",
       "    .dataframe tbody tr th {\n",
       "        vertical-align: top;\n",
       "    }\n",
       "\n",
       "    .dataframe thead th {\n",
       "        text-align: right;\n",
       "    }\n",
       "</style>\n",
       "<table border=\"1\" class=\"dataframe\">\n",
       "  <thead>\n",
       "    <tr style=\"text-align: right;\">\n",
       "      <th></th>\n",
       "      <th>1</th>\n",
       "      <th>2</th>\n",
       "      <th>3</th>\n",
       "      <th>4</th>\n",
       "      <th>5</th>\n",
       "      <th>6</th>\n",
       "      <th>7</th>\n",
       "      <th>8</th>\n",
       "      <th>9</th>\n",
       "      <th>10</th>\n",
       "      <th>...</th>\n",
       "      <th>45</th>\n",
       "      <th>46</th>\n",
       "      <th>47</th>\n",
       "      <th>48</th>\n",
       "      <th>49</th>\n",
       "      <th>50</th>\n",
       "      <th>51</th>\n",
       "      <th>52</th>\n",
       "      <th>53</th>\n",
       "      <th>54</th>\n",
       "    </tr>\n",
       "  </thead>\n",
       "  <tbody>\n",
       "    <tr>\n",
       "      <th>2013-01-01</th>\n",
       "      <td>1.636956</td>\n",
       "      <td>2.683990</td>\n",
       "      <td>-0.098458</td>\n",
       "      <td>0.350173</td>\n",
       "      <td>0.073559</td>\n",
       "      <td>-0.425926</td>\n",
       "      <td>0.954679</td>\n",
       "      <td>0.536578</td>\n",
       "      <td>0.572316</td>\n",
       "      <td>-0.254293</td>\n",
       "      <td>...</td>\n",
       "      <td>-0.255435</td>\n",
       "      <td>0.053678</td>\n",
       "      <td>-0.452064</td>\n",
       "      <td>-0.705820</td>\n",
       "      <td>-0.076527</td>\n",
       "      <td>-0.490086</td>\n",
       "      <td>0.844475</td>\n",
       "      <td>-0.501352</td>\n",
       "      <td>-0.514826</td>\n",
       "      <td>-0.105736</td>\n",
       "    </tr>\n",
       "    <tr>\n",
       "      <th>2013-01-02</th>\n",
       "      <td>1.228888</td>\n",
       "      <td>1.849360</td>\n",
       "      <td>0.620819</td>\n",
       "      <td>1.354926</td>\n",
       "      <td>1.315738</td>\n",
       "      <td>0.698377</td>\n",
       "      <td>0.899102</td>\n",
       "      <td>1.327669</td>\n",
       "      <td>1.610216</td>\n",
       "      <td>0.630302</td>\n",
       "      <td>...</td>\n",
       "      <td>0.678245</td>\n",
       "      <td>1.120592</td>\n",
       "      <td>0.200860</td>\n",
       "      <td>0.120945</td>\n",
       "      <td>0.372620</td>\n",
       "      <td>0.652032</td>\n",
       "      <td>0.926539</td>\n",
       "      <td>-0.497593</td>\n",
       "      <td>-0.432950</td>\n",
       "      <td>0.565174</td>\n",
       "    </tr>\n",
       "    <tr>\n",
       "      <th>2013-01-03</th>\n",
       "      <td>0.671514</td>\n",
       "      <td>0.538202</td>\n",
       "      <td>-0.347805</td>\n",
       "      <td>-0.098319</td>\n",
       "      <td>0.836498</td>\n",
       "      <td>-0.294739</td>\n",
       "      <td>-0.578325</td>\n",
       "      <td>0.279314</td>\n",
       "      <td>0.062197</td>\n",
       "      <td>0.031972</td>\n",
       "      <td>...</td>\n",
       "      <td>-0.454191</td>\n",
       "      <td>-0.474570</td>\n",
       "      <td>-0.446707</td>\n",
       "      <td>-0.441410</td>\n",
       "      <td>-0.618803</td>\n",
       "      <td>-0.713590</td>\n",
       "      <td>-0.324374</td>\n",
       "      <td>-0.492642</td>\n",
       "      <td>-0.416322</td>\n",
       "      <td>0.202707</td>\n",
       "    </tr>\n",
       "  </tbody>\n",
       "</table>\n",
       "<p>3 rows × 54 columns</p>\n",
       "</div>"
      ],
      "text/plain": [
       "                  1         2         3         4         5         6   \\\n",
       "2013-01-01  1.636956  2.683990 -0.098458  0.350173  0.073559 -0.425926   \n",
       "2013-01-02  1.228888  1.849360  0.620819  1.354926  1.315738  0.698377   \n",
       "2013-01-03  0.671514  0.538202 -0.347805 -0.098319  0.836498 -0.294739   \n",
       "\n",
       "                  7         8         9         10  ...        45        46  \\\n",
       "2013-01-01  0.954679  0.536578  0.572316 -0.254293  ... -0.255435  0.053678   \n",
       "2013-01-02  0.899102  1.327669  1.610216  0.630302  ...  0.678245  1.120592   \n",
       "2013-01-03 -0.578325  0.279314  0.062197  0.031972  ... -0.454191 -0.474570   \n",
       "\n",
       "                  47        48        49        50        51        52  \\\n",
       "2013-01-01 -0.452064 -0.705820 -0.076527 -0.490086  0.844475 -0.501352   \n",
       "2013-01-02  0.200860  0.120945  0.372620  0.652032  0.926539 -0.497593   \n",
       "2013-01-03 -0.446707 -0.441410 -0.618803 -0.713590 -0.324374 -0.492642   \n",
       "\n",
       "                  53        54  \n",
       "2013-01-01 -0.514826 -0.105736  \n",
       "2013-01-02 -0.432950  0.565174  \n",
       "2013-01-03 -0.416322  0.202707  \n",
       "\n",
       "[3 rows x 54 columns]"
      ]
     },
     "execution_count": 220,
     "metadata": {},
     "output_type": "execute_result"
    }
   ],
   "source": [
    "df.head(3)"
   ]
  },
  {
   "cell_type": "markdown",
   "id": "8269140d-e78b-4d2d-ae19-21958feae073",
   "metadata": {},
   "source": [
    "<div style=\"background-color:#EEB89F\">\n",
    "    <span style=\"font-size:40px\"> COMMENTARY  </span> \n",
    "    </br>\n",
    "    <span style=\"font-size:20px\"> 1. Let's take a look at the before and after now. Not perfect but given\n",
    "time constraints, let's move on with modeling with VAR</span>\n",
    "</div>"
   ]
  },
  {
   "cell_type": "code",
   "execution_count": 207,
   "id": "ba96b47b-2cc8-4170-85a1-617f097f2856",
   "metadata": {},
   "outputs": [
    {
     "data": {
      "text/plain": [
       "<AxesSubplot:xlabel='date'>"
      ]
     },
     "execution_count": 207,
     "metadata": {},
     "output_type": "execute_result"
    },
    {
     "data": {
      "image/png": "[encoded data removed]",
      "text/plain": [
       "<Figure size 432x288 with 1 Axes>"
      ]
     },
     "metadata": {
      "needs_background": "light"
     },
     "output_type": "display_data"
    }
   ],
   "source": [
    "transactions_df.groupby(['store_nbr', 'date'])['transactions'].mean()[44].plot()"
   ]
  },
  {
   "cell_type": "code",
   "execution_count": 208,
   "id": "7c5c4152-c43f-4e99-be84-650fb2394c8c",
   "metadata": {},
   "outputs": [
    {
     "data": {
      "text/plain": [
       "<AxesSubplot:>"
      ]
     },
     "execution_count": 208,
     "metadata": {},
     "output_type": "execute_result"
    },
    {
     "data": {
      "image/png": "[encoded data removed]",
      "text/plain": [
       "<Figure size 432x288 with 1 Axes>"
      ]
     },
     "metadata": {
      "needs_background": "light"
     },
     "output_type": "display_data"
    }
   ],
   "source": [
    "df[44].plot()"
   ]
  },
  {
   "cell_type": "code",
   "execution_count": 210,
   "id": "2f4850df-eae9-44ce-9749-9eaa39ac25ed",
   "metadata": {},
   "outputs": [],
   "source": [
    "df = df.asfreq('d')"
   ]
  },
  {
   "cell_type": "code",
   "execution_count": 211,
   "id": "abdd86d3-364d-476f-89ad-1b8d21594472",
   "metadata": {},
   "outputs": [],
   "source": [
    "model = VAR(df)"
   ]
  },
  {
   "cell_type": "code",
   "execution_count": 212,
   "id": "79564f97-8e6d-4f85-b995-2921ac456d4b",
   "metadata": {},
   "outputs": [
    {
     "name": "stdout",
     "output_type": "stream",
     "text": [
      "Best Lag: 1 with BIC value at -131.14582098589923\n"
     ]
    }
   ],
   "source": [
    "lags = list(range(1,13))\n",
    "best_bic = 100000\n",
    "best_lag = 1\n",
    "for lag in lags:\n",
    "    results = model.fit(lag)\n",
    "    if results.bic < best_bic:\n",
    "        best_bic = results.bic\n",
    "        best_lag = lag\n",
    "        \n",
    "print(f\"Best Lag: {best_lag} with BIC value at {best_bic}\")"
   ]
  },
  {
   "cell_type": "code",
   "execution_count": 213,
   "id": "71318322-070d-49ca-a7e3-499f2c2a3bcd",
   "metadata": {},
   "outputs": [],
   "source": [
    "results = model.fit(best_lag)"
   ]
  },
  {
   "cell_type": "code",
   "execution_count": 214,
   "id": "f953adc8-08b7-4490-8bb6-0837106a27d5",
   "metadata": {},
   "outputs": [
    {
     "data": {
      "text/html": [
       "<div>\n",
       "<style scoped>\n",
       "    .dataframe tbody tr th:only-of-type {\n",
       "        vertical-align: middle;\n",
       "    }\n",
       "\n",
       "    .dataframe tbody tr th {\n",
       "        vertical-align: top;\n",
       "    }\n",
       "\n",
       "    .dataframe thead th {\n",
       "        text-align: right;\n",
       "    }\n",
       "</style>\n",
       "<table border=\"1\" class=\"dataframe\">\n",
       "  <thead>\n",
       "    <tr style=\"text-align: right;\">\n",
       "      <th></th>\n",
       "      <th>1</th>\n",
       "      <th>2</th>\n",
       "      <th>3</th>\n",
       "      <th>4</th>\n",
       "      <th>5</th>\n",
       "      <th>6</th>\n",
       "      <th>7</th>\n",
       "      <th>8</th>\n",
       "      <th>9</th>\n",
       "      <th>10</th>\n",
       "      <th>...</th>\n",
       "      <th>45</th>\n",
       "      <th>46</th>\n",
       "      <th>47</th>\n",
       "      <th>48</th>\n",
       "      <th>49</th>\n",
       "      <th>50</th>\n",
       "      <th>51</th>\n",
       "      <th>52</th>\n",
       "      <th>53</th>\n",
       "      <th>54</th>\n",
       "    </tr>\n",
       "  </thead>\n",
       "  <tbody>\n",
       "    <tr>\n",
       "      <th>2017-08-16</th>\n",
       "      <td>-0.204789</td>\n",
       "      <td>0.146808</td>\n",
       "      <td>0.211977</td>\n",
       "      <td>0.203097</td>\n",
       "      <td>0.240680</td>\n",
       "      <td>0.264324</td>\n",
       "      <td>-0.097774</td>\n",
       "      <td>0.171195</td>\n",
       "      <td>0.166779</td>\n",
       "      <td>0.176880</td>\n",
       "      <td>...</td>\n",
       "      <td>0.315482</td>\n",
       "      <td>0.342099</td>\n",
       "      <td>0.303714</td>\n",
       "      <td>0.303306</td>\n",
       "      <td>0.136475</td>\n",
       "      <td>0.327568</td>\n",
       "      <td>0.331939</td>\n",
       "      <td>-1.600723</td>\n",
       "      <td>0.240801</td>\n",
       "      <td>0.285059</td>\n",
       "    </tr>\n",
       "    <tr>\n",
       "      <th>2017-08-17</th>\n",
       "      <td>-0.034477</td>\n",
       "      <td>-0.108092</td>\n",
       "      <td>-0.144404</td>\n",
       "      <td>-0.158446</td>\n",
       "      <td>0.103147</td>\n",
       "      <td>-0.058749</td>\n",
       "      <td>-0.213223</td>\n",
       "      <td>-0.103980</td>\n",
       "      <td>0.091292</td>\n",
       "      <td>0.137434</td>\n",
       "      <td>...</td>\n",
       "      <td>-0.001645</td>\n",
       "      <td>0.051566</td>\n",
       "      <td>-0.007440</td>\n",
       "      <td>0.038986</td>\n",
       "      <td>-0.103545</td>\n",
       "      <td>0.052458</td>\n",
       "      <td>-0.094690</td>\n",
       "      <td>-1.475686</td>\n",
       "      <td>0.201779</td>\n",
       "      <td>0.058872</td>\n",
       "    </tr>\n",
       "    <tr>\n",
       "      <th>2017-08-18</th>\n",
       "      <td>0.126906</td>\n",
       "      <td>-0.112669</td>\n",
       "      <td>-0.179365</td>\n",
       "      <td>-0.192544</td>\n",
       "      <td>0.050047</td>\n",
       "      <td>-0.174358</td>\n",
       "      <td>-0.045651</td>\n",
       "      <td>-0.043924</td>\n",
       "      <td>-0.134073</td>\n",
       "      <td>-0.053461</td>\n",
       "      <td>...</td>\n",
       "      <td>-0.074535</td>\n",
       "      <td>-0.104303</td>\n",
       "      <td>-0.128519</td>\n",
       "      <td>-0.123182</td>\n",
       "      <td>-0.133063</td>\n",
       "      <td>-0.083143</td>\n",
       "      <td>-0.064174</td>\n",
       "      <td>-1.355764</td>\n",
       "      <td>0.184405</td>\n",
       "      <td>-0.117417</td>\n",
       "    </tr>\n",
       "  </tbody>\n",
       "</table>\n",
       "<p>3 rows × 54 columns</p>\n",
       "</div>"
      ],
      "text/plain": [
       "                  1         2         3         4         5         6   \\\n",
       "2017-08-16 -0.204789  0.146808  0.211977  0.203097  0.240680  0.264324   \n",
       "2017-08-17 -0.034477 -0.108092 -0.144404 -0.158446  0.103147 -0.058749   \n",
       "2017-08-18  0.126906 -0.112669 -0.179365 -0.192544  0.050047 -0.174358   \n",
       "\n",
       "                  7         8         9         10  ...        45        46  \\\n",
       "2017-08-16 -0.097774  0.171195  0.166779  0.176880  ...  0.315482  0.342099   \n",
       "2017-08-17 -0.213223 -0.103980  0.091292  0.137434  ... -0.001645  0.051566   \n",
       "2017-08-18 -0.045651 -0.043924 -0.134073 -0.053461  ... -0.074535 -0.104303   \n",
       "\n",
       "                  47        48        49        50        51        52  \\\n",
       "2017-08-16  0.303714  0.303306  0.136475  0.327568  0.331939 -1.600723   \n",
       "2017-08-17 -0.007440  0.038986 -0.103545  0.052458 -0.094690 -1.475686   \n",
       "2017-08-18 -0.128519 -0.123182 -0.133063 -0.083143 -0.064174 -1.355764   \n",
       "\n",
       "                  53        54  \n",
       "2017-08-16  0.240801  0.285059  \n",
       "2017-08-17  0.201779  0.058872  \n",
       "2017-08-18  0.184405 -0.117417  \n",
       "\n",
       "[3 rows x 54 columns]"
      ]
     },
     "execution_count": 214,
     "metadata": {},
     "output_type": "execute_result"
    }
   ],
   "source": [
    "#retrieve the fitted values\n",
    "df2 = results.fittedvalues\n",
    "\n",
    "#the store numbers are equal to the column values\n",
    "items = df2.columns\n",
    "\n",
    "#forecast 15 days\n",
    "f = results.forecast_interval(y=df2.values[-results.k_ar:], steps=16)\n",
    "\n",
    "#set up the dataframe\n",
    "idx = pd.date_range('2017-08-16','2017-08-31')\n",
    "df_forecast = pd.DataFrame(f[0],index=idx,columns=items)\n",
    "df_forecast.head(3)"
   ]
  },
  {
   "cell_type": "code",
   "execution_count": 215,
   "id": "6dd4c0c9-2254-4cbb-ac4a-5e46777c610f",
   "metadata": {},
   "outputs": [
    {
     "data": {
      "text/plain": [
       "<AxesSubplot:>"
      ]
     },
     "execution_count": 215,
     "metadata": {},
     "output_type": "execute_result"
    },
    {
     "data": {
      "image/png": "[encoded data removed]",
      "text/plain": [
       "<Figure size 432x288 with 1 Axes>"
      ]
     },
     "metadata": {
      "needs_background": "light"
     },
     "output_type": "display_data"
    }
   ],
   "source": [
    "df[(df.index.year == 2017) & (df.index.month == 8)][44].plot()\n",
    "df_forecast[44].plot()"
   ]
  },
  {
   "cell_type": "code",
   "execution_count": 216,
   "id": "2fab5009-a8b4-446e-a1bc-e0edeee216eb",
   "metadata": {},
   "outputs": [
    {
     "data": {
      "text/plain": [
       "<AxesSubplot:>"
      ]
     },
     "execution_count": 216,
     "metadata": {},
     "output_type": "execute_result"
    },
    {
     "data": {
      "image/png": "[encoded data removed]",
      "text/plain": [
       "<Figure size 432x288 with 1 Axes>"
      ]
     },
     "metadata": {
      "needs_background": "light"
     },
     "output_type": "display_data"
    }
   ],
   "source": [
    "df[(df.index.year == 2017) & (df.index.month == 8)][1].plot()\n",
    "df_forecast[6].plot()"
   ]
  },
  {
   "cell_type": "markdown",
   "id": "a6de3621-fb43-4cc0-954f-55388809f3c6",
   "metadata": {},
   "source": [
    "<div style=\"background-color:#EEB89F\">\n",
    "    <span style=\"font-size:40px\"> COMMENTARY  </span> \n",
    "    </br>\n",
    "    <span style=\"font-size:20px\"> After detrending and adjusting the series for unit variance seasonality...let's see if it is stationary.</span>\n",
    "</div>"
   ]
  },
  {
   "cell_type": "code",
   "execution_count": 219,
   "id": "7303f1b9-cb0b-4546-9087-2d8f5b689710",
   "metadata": {},
   "outputs": [
    {
     "name": "stdout",
     "output_type": "stream",
     "text": [
      "         Values                       Metric\n",
      "0 -6.397991e+00               D-F Statistics\n",
      "1  2.028295e-08                      p-value\n",
      "2  2.000000e+01          number of lags used\n",
      "3  1.667000e+03  Number of observations used\n",
      "4 -3.434279e+00          critical value (1%)\n",
      "5 -2.863275e+00          critical value (5%)\n",
      "6 -2.567694e+00         critical value (10%)\n"
     ]
    },
    {
     "data": {
      "image/png": "[encoded data removed]",
      "text/plain": [
       "<Figure size 432x288 with 1 Axes>"
      ]
     },
     "metadata": {
      "needs_background": "light"
     },
     "output_type": "display_data"
    }
   ],
   "source": [
    "def test_stationarity(df):\n",
    "    \n",
    "    # Plot rolling mean and std\n",
    "    rolling_mean = df.rolling(7).mean()\n",
    "    rolling_std = df.rolling(7).std()\n",
    "    \n",
    "    plt.plot(df, color=\"blue\",label=\"Original Data\")\n",
    "    plt.plot(rolling_mean, color=\"red\", label=\"Rolling Mean\")\n",
    "    plt.plot(rolling_std, color=\"black\", label = \"Rolling Standard Deviation\")\n",
    "    plt.xlabel('Year')\n",
    "    plt.ylabel('Production')\n",
    "    plt.title(\"Time Series, Rolling Mean, Standard Deviation\")\n",
    "    plt.legend(loc=\"best\")\n",
    "    \n",
    "    # use the augmented Dickey-Fuller test from the statsmodels package. \n",
    "    adft = adfuller(df,autolag='BIC')\n",
    "\n",
    "    output_df = pd.DataFrame({\"Values\":[adft[0],adft[1],adft[2],adft[3], adft[4]['1%'], adft[4]['5%'], adft[4]['10%']]  ,\n",
    "                              \"Metric\":[\"D-F Statistics\",\"p-value\",\"number of lags used\",\"Number of observations used\",\n",
    "                              \"critical value (1%)\", \"critical value (5%)\", \"critical value (10%)\"]})\n",
    "    return print(output_df)\n",
    "test_stationarity(df[44])"
   ]
  },
  {
   "cell_type": "markdown",
   "id": "aaedd766-748f-4c9b-b473-94fc16c66baf",
   "metadata": {},
   "source": [
    "<div style=\"background-color:#EEB89F\">\n",
    "    <span style=\"font-size:40px\"> COMMENTARY  </span> \n",
    "    </br>\n",
    "    <span style=\"font-size:20px\"> The p-value resulting from the Augmented Dickey-Fuller test\n",
    "                                  is very low showing that the time series is stationary.\n",
    "                            </span>\n",
    "</div>"
   ]
  },
  {
   "cell_type": "markdown",
   "id": "9f6cc9d9-58c2-4d29-88ce-90a36a944950",
   "metadata": {},
   "source": [
    "<div style=\"background-color:#EEB89F\">\n",
    "    <span style=\"font-size:40px\"> COMMENTARY  </span> \n",
    "    </br>\n",
    "    <span style=\"font-size:20px\"> Now let's look at the seasonal decomposition\n",
    "                            </span>\n",
    "</div>"
   ]
  },
  {
   "cell_type": "code",
   "execution_count": 217,
   "id": "0bfd02a6-4431-49dd-a881-7179c907de2c",
   "metadata": {},
   "outputs": [
    {
     "data": {
      "image/png": "[encoded data removed]",
      "text/plain": [
       "<Figure size 432x288 with 4 Axes>"
      ]
     },
     "metadata": {
      "needs_background": "light"
     },
     "output_type": "display_data"
    }
   ],
   "source": [
    "def decomp_ts(ts, model = 'additive'):\n",
    "    res = sts.seasonal_decompose(ts, model = model, period=12) \n",
    "    res.plot()\n",
    "    return(pd.DataFrame({'resid': res.resid, \n",
    "                         'trend': res.trend, \n",
    "                         'seasonal': res.seasonal},\n",
    "                          index = ts.index) )\n",
    "\n",
    "decomp = decomp_ts(df[44], model='additive')"
   ]
  },
  {
   "cell_type": "markdown",
   "id": "5a281512-60bf-4516-b8b2-3fe6d25f03d5",
   "metadata": {},
   "source": [
    "<div style=\"background-color:#EEB89F\">\n",
    "    <span style=\"font-size:40px\"> COMMENTARY  </span> \n",
    "    </br>\n",
    "    <span style=\"font-size:20px\"> And the ACF and PACF plots - these plots are bit disappointing because of clear\n",
    "                            </span>\n",
    "</div>"
   ]
  },
  {
   "cell_type": "code",
   "execution_count": 218,
   "id": "fb0d9746-08ec-406d-a6f7-80074990b6f7",
   "metadata": {},
   "outputs": [
    {
     "data": {
      "image/png": "[encoded data removed]",
      "text/plain": [
       "<Figure size 576x576 with 2 Axes>"
      ]
     },
     "metadata": {
      "needs_background": "light"
     },
     "output_type": "display_data"
    }
   ],
   "source": [
    "def auto_partial_corr_plot(ts):\n",
    "    _,ax = plt.subplots(2,1, figsize=(8,8))\n",
    "    _=splt.plot_acf(ts, lags = 40, ax=ax[0]);\n",
    "    _=splt.plot_pacf(ts, lags = 40, method='yw', ax=ax[1]);\n",
    "\n",
    "auto_partial_corr_plot(df[44])"
   ]
  },
  {
   "cell_type": "markdown",
   "id": "410e7274-716f-4596-81af-3a817d99a091",
   "metadata": {},
   "source": [
    "<div style=\"background-color:#EEB89F\">\n",
    "    <span style=\"font-size:40px\"> COMMENTARY  </span> \n",
    "    </br>\n",
    "    <span style=\"font-size:20px\"> SARIMAX\n",
    "                            </span>\n",
    "</div>"
   ]
  },
  {
   "cell_type": "code",
   "execution_count": 222,
   "id": "be3f4e3b-49e8-498f-b8b2-cae2461df13d",
   "metadata": {},
   "outputs": [],
   "source": [
    "X = X_train[47230504:].copy()   #REDUCE EVEN MORE GIVEN TIME TAKING TO EXPERIMENT"
   ]
  },
  {
   "cell_type": "code",
   "execution_count": 224,
   "id": "8c5fa888-dceb-4a16-9140-787d5a7d1261",
   "metadata": {},
   "outputs": [],
   "source": [
    "X.drop('Unnamed: 0', axis=1, inplace=True)"
   ]
  },
  {
   "cell_type": "code",
   "execution_count": 225,
   "id": "148b5101-bc01-4f3f-b69a-86339dbe69f1",
   "metadata": {},
   "outputs": [
    {
     "data": {
      "text/html": [
       "<div>\n",
       "<style scoped>\n",
       "    .dataframe tbody tr th:only-of-type {\n",
       "        vertical-align: middle;\n",
       "    }\n",
       "\n",
       "    .dataframe tbody tr th {\n",
       "        vertical-align: top;\n",
       "    }\n",
       "\n",
       "    .dataframe thead th {\n",
       "        text-align: right;\n",
       "    }\n",
       "</style>\n",
       "<table border=\"1\" class=\"dataframe\">\n",
       "  <thead>\n",
       "    <tr style=\"text-align: right;\">\n",
       "      <th></th>\n",
       "      <th>id</th>\n",
       "      <th>date</th>\n",
       "      <th>store_nbr</th>\n",
       "      <th>item_nbr</th>\n",
       "      <th>unit_sales</th>\n",
       "      <th>onpromotion</th>\n",
       "    </tr>\n",
       "  </thead>\n",
       "  <tbody>\n",
       "    <tr>\n",
       "      <th>47230504</th>\n",
       "      <td>113689412</td>\n",
       "      <td>2017-04-26</td>\n",
       "      <td>28</td>\n",
       "      <td>1281253</td>\n",
       "      <td>2.000</td>\n",
       "      <td>False</td>\n",
       "    </tr>\n",
       "    <tr>\n",
       "      <th>47230505</th>\n",
       "      <td>113689413</td>\n",
       "      <td>2017-04-26</td>\n",
       "      <td>28</td>\n",
       "      <td>1282047</td>\n",
       "      <td>8.563</td>\n",
       "      <td>False</td>\n",
       "    </tr>\n",
       "    <tr>\n",
       "      <th>47230506</th>\n",
       "      <td>113689414</td>\n",
       "      <td>2017-04-26</td>\n",
       "      <td>28</td>\n",
       "      <td>1294665</td>\n",
       "      <td>2.000</td>\n",
       "      <td>False</td>\n",
       "    </tr>\n",
       "    <tr>\n",
       "      <th>47230507</th>\n",
       "      <td>113689415</td>\n",
       "      <td>2017-04-26</td>\n",
       "      <td>28</td>\n",
       "      <td>1299616</td>\n",
       "      <td>2.000</td>\n",
       "      <td>True</td>\n",
       "    </tr>\n",
       "    <tr>\n",
       "      <th>47230508</th>\n",
       "      <td>113689416</td>\n",
       "      <td>2017-04-26</td>\n",
       "      <td>28</td>\n",
       "      <td>1300325</td>\n",
       "      <td>7.000</td>\n",
       "      <td>False</td>\n",
       "    </tr>\n",
       "    <tr>\n",
       "      <th>...</th>\n",
       "      <td>...</td>\n",
       "      <td>...</td>\n",
       "      <td>...</td>\n",
       "      <td>...</td>\n",
       "      <td>...</td>\n",
       "      <td>...</td>\n",
       "    </tr>\n",
       "    <tr>\n",
       "      <th>59038127</th>\n",
       "      <td>125497035</td>\n",
       "      <td>2017-08-15</td>\n",
       "      <td>54</td>\n",
       "      <td>2089339</td>\n",
       "      <td>4.000</td>\n",
       "      <td>False</td>\n",
       "    </tr>\n",
       "    <tr>\n",
       "      <th>59038128</th>\n",
       "      <td>125497036</td>\n",
       "      <td>2017-08-15</td>\n",
       "      <td>54</td>\n",
       "      <td>2106464</td>\n",
       "      <td>1.000</td>\n",
       "      <td>True</td>\n",
       "    </tr>\n",
       "    <tr>\n",
       "      <th>59038129</th>\n",
       "      <td>125497037</td>\n",
       "      <td>2017-08-15</td>\n",
       "      <td>54</td>\n",
       "      <td>2110456</td>\n",
       "      <td>192.000</td>\n",
       "      <td>False</td>\n",
       "    </tr>\n",
       "    <tr>\n",
       "      <th>59038130</th>\n",
       "      <td>125497038</td>\n",
       "      <td>2017-08-15</td>\n",
       "      <td>54</td>\n",
       "      <td>2113914</td>\n",
       "      <td>198.000</td>\n",
       "      <td>True</td>\n",
       "    </tr>\n",
       "    <tr>\n",
       "      <th>59038131</th>\n",
       "      <td>125497039</td>\n",
       "      <td>2017-08-15</td>\n",
       "      <td>54</td>\n",
       "      <td>2116416</td>\n",
       "      <td>2.000</td>\n",
       "      <td>False</td>\n",
       "    </tr>\n",
       "  </tbody>\n",
       "</table>\n",
       "<p>11807628 rows × 6 columns</p>\n",
       "</div>"
      ],
      "text/plain": [
       "                 id       date  store_nbr  item_nbr  unit_sales  onpromotion\n",
       "47230504  113689412 2017-04-26         28   1281253       2.000        False\n",
       "47230505  113689413 2017-04-26         28   1282047       8.563        False\n",
       "47230506  113689414 2017-04-26         28   1294665       2.000        False\n",
       "47230507  113689415 2017-04-26         28   1299616       2.000         True\n",
       "47230508  113689416 2017-04-26         28   1300325       7.000        False\n",
       "...             ...        ...        ...       ...         ...          ...\n",
       "59038127  125497035 2017-08-15         54   2089339       4.000        False\n",
       "59038128  125497036 2017-08-15         54   2106464       1.000         True\n",
       "59038129  125497037 2017-08-15         54   2110456     192.000        False\n",
       "59038130  125497038 2017-08-15         54   2113914     198.000         True\n",
       "59038131  125497039 2017-08-15         54   2116416       2.000        False\n",
       "\n",
       "[11807628 rows x 6 columns]"
      ]
     },
     "execution_count": 225,
     "metadata": {},
     "output_type": "execute_result"
    }
   ],
   "source": [
    "X"
   ]
  },
  {
   "cell_type": "code",
   "execution_count": 226,
   "id": "e13a9635-db69-4434-ad6a-2a62534ca54f",
   "metadata": {},
   "outputs": [],
   "source": [
    "items = X.groupby('item_nbr')"
   ]
  },
  {
   "cell_type": "code",
   "execution_count": 365,
   "id": "10049e63-17bb-431d-ad07-2d4d9966edc3",
   "metadata": {},
   "outputs": [
    {
     "name": "stderr",
     "output_type": "stream",
     "text": [
      "/opt/anaconda3/envs/csci_e83/lib/python3.9/site-packages/statsmodels/base/model.py:604: ConvergenceWarning: Maximum Likelihood optimization failed to converge. Check mle_retvals\n",
      "  warnings.warn(\"Maximum Likelihood optimization failed to \"\n",
      "/opt/anaconda3/envs/csci_e83/lib/python3.9/site-packages/statsmodels/base/model.py:604: ConvergenceWarning: Maximum Likelihood optimization failed to converge. Check mle_retvals\n",
      "  warnings.warn(\"Maximum Likelihood optimization failed to \"\n",
      "/opt/anaconda3/envs/csci_e83/lib/python3.9/site-packages/statsmodels/base/model.py:604: ConvergenceWarning: Maximum Likelihood optimization failed to converge. Check mle_retvals\n",
      "  warnings.warn(\"Maximum Likelihood optimization failed to \"\n"
     ]
    }
   ],
   "source": [
    "import warnings\n",
    "warnings.filterwarnings(action='once')\n",
    "seasonal_orders =[ (1, 0, 0, 12),(1, 0, 1, 12),(1, 0, 2, 12),(1, 1, 0, 12),(1, 1, 1, 12),(1, 1, 2, 12),\n",
    "                   (1, 2, 0, 12),(1, 2, 1, 12),(1, 2, 2, 12),(2, 0, 0, 12),(2, 0, 1, 12),(2, 0, 2, 12),\n",
    "                   (2, 1, 0, 12),(2, 1, 1, 12),(2, 1, 2, 12),(2, 2, 0, 12),(2, 2, 1, 12),(2, 2, 2, 12)]\n",
    "\n",
    "orders = [(1, 0, 0),(1, 0, 1),(1, 0, 2),(1, 1, 0),(1, 1, 1),(1, 1, 2),\n",
    "          (1, 2, 0),(1, 2, 1),(1, 2, 2),(2, 0, 0),(2, 0, 1),(2, 0, 2),\n",
    "          (2, 1, 0),(2, 1, 1),(2, 1, 2),(2, 2, 0),(2, 2, 1),(2, 2, 2)]\n",
    "\n",
    "for item_nbr, item_grp in items:\n",
    "    best_bic = 1000000\n",
    "    best_order = (1, 0, 0)\n",
    "    best_seasonal_order = (1, 0, 0, 12)\n",
    "    items_daily_sales = item_grp.groupby('date')['unit_sales'].mean()\n",
    "    date_index = pd.date_range('2017-04-26', '2017-08-15')\n",
    "    items_daily_sales = items_daily_sales.reindex(date_index,method='nearest')\n",
    "    for order, seasonal_order in zip(orders, seasonal_orders):\n",
    "        model = sm.tsa.statespace.SARIMAX(items_daily_sales,order=order, seasonal_order=seasonal_order,\n",
    "                                          enforce_invertibility=False, enforce_stationarity=False);\n",
    "        results = model.fit(disp=False);\n",
    "        if results.bic<best_bic:\n",
    "            best_bic = results.bic;\n",
    "            best_seasonal_order = seasonal_order;\n",
    "            best_order = order;\n",
    "\n",
    "    break;"
   ]
  },
  {
   "cell_type": "code",
   "execution_count": 366,
   "id": "4ab477d7-b90f-4e69-9f3e-b5768ed0e8b8",
   "metadata": {},
   "outputs": [
    {
     "name": "stdout",
     "output_type": "stream",
     "text": [
      "28.108252327400578 (1, 0, 0, 12) (1, 0, 0)\n"
     ]
    }
   ],
   "source": [
    "print(best_bic, best_seasonal_order, best_order)"
   ]
  },
  {
   "cell_type": "code",
   "execution_count": 367,
   "id": "0502acd8-a0ca-4021-8443-c069aa927885",
   "metadata": {},
   "outputs": [
    {
     "name": "stderr",
     "output_type": "stream",
     "text": [
      "/opt/anaconda3/envs/csci_e83/lib/python3.9/site-packages/statsmodels/base/model.py:604: ConvergenceWarning: Maximum Likelihood optimization failed to converge. Check mle_retvals\n",
      "  warnings.warn(\"Maximum Likelihood optimization failed to \"\n",
      "/opt/anaconda3/envs/csci_e83/lib/python3.9/site-packages/statsmodels/base/model.py:604: ConvergenceWarning: Maximum Likelihood optimization failed to converge. Check mle_retvals\n",
      "  warnings.warn(\"Maximum Likelihood optimization failed to \"\n",
      "/opt/anaconda3/envs/csci_e83/lib/python3.9/site-packages/statsmodels/base/model.py:604: ConvergenceWarning: Maximum Likelihood optimization failed to converge. Check mle_retvals\n",
      "  warnings.warn(\"Maximum Likelihood optimization failed to \"\n",
      "/opt/anaconda3/envs/csci_e83/lib/python3.9/site-packages/statsmodels/base/model.py:604: ConvergenceWarning: Maximum Likelihood optimization failed to converge. Check mle_retvals\n",
      "  warnings.warn(\"Maximum Likelihood optimization failed to \"\n",
      "/opt/anaconda3/envs/csci_e83/lib/python3.9/site-packages/statsmodels/base/model.py:604: ConvergenceWarning: Maximum Likelihood optimization failed to converge. Check mle_retvals\n",
      "  warnings.warn(\"Maximum Likelihood optimization failed to \"\n",
      "/opt/anaconda3/envs/csci_e83/lib/python3.9/site-packages/statsmodels/base/model.py:604: ConvergenceWarning: Maximum Likelihood optimization failed to converge. Check mle_retvals\n",
      "  warnings.warn(\"Maximum Likelihood optimization failed to \"\n",
      "/opt/anaconda3/envs/csci_e83/lib/python3.9/site-packages/statsmodels/base/model.py:604: ConvergenceWarning: Maximum Likelihood optimization failed to converge. Check mle_retvals\n",
      "  warnings.warn(\"Maximum Likelihood optimization failed to \"\n",
      "/opt/anaconda3/envs/csci_e83/lib/python3.9/site-packages/statsmodels/base/model.py:604: ConvergenceWarning: Maximum Likelihood optimization failed to converge. Check mle_retvals\n",
      "  warnings.warn(\"Maximum Likelihood optimization failed to \"\n",
      "/opt/anaconda3/envs/csci_e83/lib/python3.9/site-packages/statsmodels/base/model.py:604: ConvergenceWarning: Maximum Likelihood optimization failed to converge. Check mle_retvals\n",
      "  warnings.warn(\"Maximum Likelihood optimization failed to \"\n",
      "/opt/anaconda3/envs/csci_e83/lib/python3.9/site-packages/statsmodels/base/model.py:604: ConvergenceWarning: Maximum Likelihood optimization failed to converge. Check mle_retvals\n",
      "  warnings.warn(\"Maximum Likelihood optimization failed to \"\n",
      "/opt/anaconda3/envs/csci_e83/lib/python3.9/site-packages/statsmodels/base/model.py:604: ConvergenceWarning: Maximum Likelihood optimization failed to converge. Check mle_retvals\n",
      "  warnings.warn(\"Maximum Likelihood optimization failed to \"\n",
      "/opt/anaconda3/envs/csci_e83/lib/python3.9/site-packages/statsmodels/base/model.py:604: ConvergenceWarning: Maximum Likelihood optimization failed to converge. Check mle_retvals\n",
      "  warnings.warn(\"Maximum Likelihood optimization failed to \"\n",
      "/opt/anaconda3/envs/csci_e83/lib/python3.9/site-packages/statsmodels/base/model.py:604: ConvergenceWarning: Maximum Likelihood optimization failed to converge. Check mle_retvals\n",
      "  warnings.warn(\"Maximum Likelihood optimization failed to \"\n",
      "/opt/anaconda3/envs/csci_e83/lib/python3.9/site-packages/statsmodels/base/model.py:604: ConvergenceWarning: Maximum Likelihood optimization failed to converge. Check mle_retvals\n",
      "  warnings.warn(\"Maximum Likelihood optimization failed to \"\n",
      "/opt/anaconda3/envs/csci_e83/lib/python3.9/site-packages/statsmodels/base/model.py:604: ConvergenceWarning: Maximum Likelihood optimization failed to converge. Check mle_retvals\n",
      "  warnings.warn(\"Maximum Likelihood optimization failed to \"\n",
      "/opt/anaconda3/envs/csci_e83/lib/python3.9/site-packages/statsmodels/base/model.py:604: ConvergenceWarning: Maximum Likelihood optimization failed to converge. Check mle_retvals\n",
      "  warnings.warn(\"Maximum Likelihood optimization failed to \"\n",
      "/opt/anaconda3/envs/csci_e83/lib/python3.9/site-packages/statsmodels/base/model.py:604: ConvergenceWarning: Maximum Likelihood optimization failed to converge. Check mle_retvals\n",
      "  warnings.warn(\"Maximum Likelihood optimization failed to \"\n",
      "/opt/anaconda3/envs/csci_e83/lib/python3.9/site-packages/statsmodels/base/model.py:604: ConvergenceWarning: Maximum Likelihood optimization failed to converge. Check mle_retvals\n",
      "  warnings.warn(\"Maximum Likelihood optimization failed to \"\n",
      "/opt/anaconda3/envs/csci_e83/lib/python3.9/site-packages/statsmodels/base/model.py:604: ConvergenceWarning: Maximum Likelihood optimization failed to converge. Check mle_retvals\n",
      "  warnings.warn(\"Maximum Likelihood optimization failed to \"\n",
      "/opt/anaconda3/envs/csci_e83/lib/python3.9/site-packages/statsmodels/base/model.py:604: ConvergenceWarning: Maximum Likelihood optimization failed to converge. Check mle_retvals\n",
      "  warnings.warn(\"Maximum Likelihood optimization failed to \"\n",
      "/opt/anaconda3/envs/csci_e83/lib/python3.9/site-packages/statsmodels/base/model.py:604: ConvergenceWarning: Maximum Likelihood optimization failed to converge. Check mle_retvals\n",
      "  warnings.warn(\"Maximum Likelihood optimization failed to \"\n",
      "/opt/anaconda3/envs/csci_e83/lib/python3.9/site-packages/statsmodels/base/model.py:604: ConvergenceWarning: Maximum Likelihood optimization failed to converge. Check mle_retvals\n",
      "  warnings.warn(\"Maximum Likelihood optimization failed to \"\n",
      "/opt/anaconda3/envs/csci_e83/lib/python3.9/site-packages/statsmodels/base/model.py:604: ConvergenceWarning: Maximum Likelihood optimization failed to converge. Check mle_retvals\n",
      "  warnings.warn(\"Maximum Likelihood optimization failed to \"\n",
      "/opt/anaconda3/envs/csci_e83/lib/python3.9/site-packages/statsmodels/base/model.py:604: ConvergenceWarning: Maximum Likelihood optimization failed to converge. Check mle_retvals\n",
      "  warnings.warn(\"Maximum Likelihood optimization failed to \"\n",
      "/opt/anaconda3/envs/csci_e83/lib/python3.9/site-packages/statsmodels/base/model.py:604: ConvergenceWarning: Maximum Likelihood optimization failed to converge. Check mle_retvals\n",
      "  warnings.warn(\"Maximum Likelihood optimization failed to \"\n",
      "/opt/anaconda3/envs/csci_e83/lib/python3.9/site-packages/statsmodels/base/model.py:604: ConvergenceWarning: Maximum Likelihood optimization failed to converge. Check mle_retvals\n",
      "  warnings.warn(\"Maximum Likelihood optimization failed to \"\n",
      "/opt/anaconda3/envs/csci_e83/lib/python3.9/site-packages/statsmodels/base/model.py:604: ConvergenceWarning: Maximum Likelihood optimization failed to converge. Check mle_retvals\n",
      "  warnings.warn(\"Maximum Likelihood optimization failed to \"\n",
      "/opt/anaconda3/envs/csci_e83/lib/python3.9/site-packages/statsmodels/base/model.py:604: ConvergenceWarning: Maximum Likelihood optimization failed to converge. Check mle_retvals\n",
      "  warnings.warn(\"Maximum Likelihood optimization failed to \"\n",
      "/opt/anaconda3/envs/csci_e83/lib/python3.9/site-packages/statsmodels/base/model.py:604: ConvergenceWarning: Maximum Likelihood optimization failed to converge. Check mle_retvals\n",
      "  warnings.warn(\"Maximum Likelihood optimization failed to \"\n",
      "/opt/anaconda3/envs/csci_e83/lib/python3.9/site-packages/statsmodels/base/model.py:604: ConvergenceWarning: Maximum Likelihood optimization failed to converge. Check mle_retvals\n",
      "  warnings.warn(\"Maximum Likelihood optimization failed to \"\n",
      "/opt/anaconda3/envs/csci_e83/lib/python3.9/site-packages/statsmodels/base/model.py:604: ConvergenceWarning: Maximum Likelihood optimization failed to converge. Check mle_retvals\n",
      "  warnings.warn(\"Maximum Likelihood optimization failed to \"\n",
      "/opt/anaconda3/envs/csci_e83/lib/python3.9/site-packages/statsmodels/base/model.py:604: ConvergenceWarning: Maximum Likelihood optimization failed to converge. Check mle_retvals\n",
      "  warnings.warn(\"Maximum Likelihood optimization failed to \"\n",
      "/opt/anaconda3/envs/csci_e83/lib/python3.9/site-packages/statsmodels/base/model.py:604: ConvergenceWarning: Maximum Likelihood optimization failed to converge. Check mle_retvals\n",
      "  warnings.warn(\"Maximum Likelihood optimization failed to \"\n",
      "/opt/anaconda3/envs/csci_e83/lib/python3.9/site-packages/statsmodels/base/model.py:604: ConvergenceWarning: Maximum Likelihood optimization failed to converge. Check mle_retvals\n",
      "  warnings.warn(\"Maximum Likelihood optimization failed to \"\n",
      "/opt/anaconda3/envs/csci_e83/lib/python3.9/site-packages/statsmodels/base/model.py:604: ConvergenceWarning: Maximum Likelihood optimization failed to converge. Check mle_retvals\n",
      "  warnings.warn(\"Maximum Likelihood optimization failed to \"\n",
      "/opt/anaconda3/envs/csci_e83/lib/python3.9/site-packages/statsmodels/base/model.py:604: ConvergenceWarning: Maximum Likelihood optimization failed to converge. Check mle_retvals\n",
      "  warnings.warn(\"Maximum Likelihood optimization failed to \"\n",
      "/opt/anaconda3/envs/csci_e83/lib/python3.9/site-packages/statsmodels/base/model.py:604: ConvergenceWarning: Maximum Likelihood optimization failed to converge. Check mle_retvals\n",
      "  warnings.warn(\"Maximum Likelihood optimization failed to \"\n",
      "/opt/anaconda3/envs/csci_e83/lib/python3.9/site-packages/statsmodels/base/model.py:604: ConvergenceWarning: Maximum Likelihood optimization failed to converge. Check mle_retvals\n",
      "  warnings.warn(\"Maximum Likelihood optimization failed to \"\n",
      "/opt/anaconda3/envs/csci_e83/lib/python3.9/site-packages/statsmodels/base/model.py:604: ConvergenceWarning: Maximum Likelihood optimization failed to converge. Check mle_retvals\n",
      "  warnings.warn(\"Maximum Likelihood optimization failed to \"\n",
      "/opt/anaconda3/envs/csci_e83/lib/python3.9/site-packages/statsmodels/base/model.py:604: ConvergenceWarning: Maximum Likelihood optimization failed to converge. Check mle_retvals\n",
      "  warnings.warn(\"Maximum Likelihood optimization failed to \"\n",
      "/opt/anaconda3/envs/csci_e83/lib/python3.9/site-packages/statsmodels/base/model.py:604: ConvergenceWarning: Maximum Likelihood optimization failed to converge. Check mle_retvals\n",
      "  warnings.warn(\"Maximum Likelihood optimization failed to \"\n",
      "/opt/anaconda3/envs/csci_e83/lib/python3.9/site-packages/statsmodels/base/model.py:604: ConvergenceWarning: Maximum Likelihood optimization failed to converge. Check mle_retvals\n",
      "  warnings.warn(\"Maximum Likelihood optimization failed to \"\n",
      "/opt/anaconda3/envs/csci_e83/lib/python3.9/site-packages/statsmodels/base/model.py:604: ConvergenceWarning: Maximum Likelihood optimization failed to converge. Check mle_retvals\n",
      "  warnings.warn(\"Maximum Likelihood optimization failed to \"\n",
      "/opt/anaconda3/envs/csci_e83/lib/python3.9/site-packages/statsmodels/base/model.py:604: ConvergenceWarning: Maximum Likelihood optimization failed to converge. Check mle_retvals\n",
      "  warnings.warn(\"Maximum Likelihood optimization failed to \"\n",
      "/opt/anaconda3/envs/csci_e83/lib/python3.9/site-packages/statsmodels/base/model.py:604: ConvergenceWarning: Maximum Likelihood optimization failed to converge. Check mle_retvals\n",
      "  warnings.warn(\"Maximum Likelihood optimization failed to \"\n",
      "/opt/anaconda3/envs/csci_e83/lib/python3.9/site-packages/statsmodels/base/model.py:604: ConvergenceWarning: Maximum Likelihood optimization failed to converge. Check mle_retvals\n",
      "  warnings.warn(\"Maximum Likelihood optimization failed to \"\n",
      "/opt/anaconda3/envs/csci_e83/lib/python3.9/site-packages/statsmodels/base/model.py:604: ConvergenceWarning: Maximum Likelihood optimization failed to converge. Check mle_retvals\n",
      "  warnings.warn(\"Maximum Likelihood optimization failed to \"\n",
      "/opt/anaconda3/envs/csci_e83/lib/python3.9/site-packages/statsmodels/base/model.py:604: ConvergenceWarning: Maximum Likelihood optimization failed to converge. Check mle_retvals\n",
      "  warnings.warn(\"Maximum Likelihood optimization failed to \"\n",
      "/opt/anaconda3/envs/csci_e83/lib/python3.9/site-packages/statsmodels/base/model.py:604: ConvergenceWarning: Maximum Likelihood optimization failed to converge. Check mle_retvals\n",
      "  warnings.warn(\"Maximum Likelihood optimization failed to \"\n",
      "/opt/anaconda3/envs/csci_e83/lib/python3.9/site-packages/statsmodels/base/model.py:604: ConvergenceWarning: Maximum Likelihood optimization failed to converge. Check mle_retvals\n",
      "  warnings.warn(\"Maximum Likelihood optimization failed to \"\n",
      "/opt/anaconda3/envs/csci_e83/lib/python3.9/site-packages/statsmodels/base/model.py:604: ConvergenceWarning: Maximum Likelihood optimization failed to converge. Check mle_retvals\n",
      "  warnings.warn(\"Maximum Likelihood optimization failed to \"\n",
      "/opt/anaconda3/envs/csci_e83/lib/python3.9/site-packages/statsmodels/base/model.py:604: ConvergenceWarning: Maximum Likelihood optimization failed to converge. Check mle_retvals\n",
      "  warnings.warn(\"Maximum Likelihood optimization failed to \"\n",
      "/opt/anaconda3/envs/csci_e83/lib/python3.9/site-packages/statsmodels/base/model.py:604: ConvergenceWarning: Maximum Likelihood optimization failed to converge. Check mle_retvals\n",
      "  warnings.warn(\"Maximum Likelihood optimization failed to \"\n",
      "/opt/anaconda3/envs/csci_e83/lib/python3.9/site-packages/statsmodels/base/model.py:604: ConvergenceWarning: Maximum Likelihood optimization failed to converge. Check mle_retvals\n",
      "  warnings.warn(\"Maximum Likelihood optimization failed to \"\n",
      "/opt/anaconda3/envs/csci_e83/lib/python3.9/site-packages/statsmodels/base/model.py:604: ConvergenceWarning: Maximum Likelihood optimization failed to converge. Check mle_retvals\n",
      "  warnings.warn(\"Maximum Likelihood optimization failed to \"\n",
      "/opt/anaconda3/envs/csci_e83/lib/python3.9/site-packages/statsmodels/base/model.py:604: ConvergenceWarning: Maximum Likelihood optimization failed to converge. Check mle_retvals\n",
      "  warnings.warn(\"Maximum Likelihood optimization failed to \"\n",
      "/opt/anaconda3/envs/csci_e83/lib/python3.9/site-packages/statsmodels/base/model.py:604: ConvergenceWarning: Maximum Likelihood optimization failed to converge. Check mle_retvals\n",
      "  warnings.warn(\"Maximum Likelihood optimization failed to \"\n",
      "/opt/anaconda3/envs/csci_e83/lib/python3.9/site-packages/statsmodels/base/model.py:604: ConvergenceWarning: Maximum Likelihood optimization failed to converge. Check mle_retvals\n",
      "  warnings.warn(\"Maximum Likelihood optimization failed to \"\n",
      "/opt/anaconda3/envs/csci_e83/lib/python3.9/site-packages/statsmodels/base/model.py:604: ConvergenceWarning: Maximum Likelihood optimization failed to converge. Check mle_retvals\n",
      "  warnings.warn(\"Maximum Likelihood optimization failed to \"\n",
      "/opt/anaconda3/envs/csci_e83/lib/python3.9/site-packages/statsmodels/base/model.py:604: ConvergenceWarning: Maximum Likelihood optimization failed to converge. Check mle_retvals\n",
      "  warnings.warn(\"Maximum Likelihood optimization failed to \"\n",
      "/opt/anaconda3/envs/csci_e83/lib/python3.9/site-packages/statsmodels/base/model.py:604: ConvergenceWarning: Maximum Likelihood optimization failed to converge. Check mle_retvals\n",
      "  warnings.warn(\"Maximum Likelihood optimization failed to \"\n",
      "/opt/anaconda3/envs/csci_e83/lib/python3.9/site-packages/statsmodels/base/model.py:604: ConvergenceWarning: Maximum Likelihood optimization failed to converge. Check mle_retvals\n",
      "  warnings.warn(\"Maximum Likelihood optimization failed to \"\n",
      "/opt/anaconda3/envs/csci_e83/lib/python3.9/site-packages/statsmodels/base/model.py:604: ConvergenceWarning: Maximum Likelihood optimization failed to converge. Check mle_retvals\n",
      "  warnings.warn(\"Maximum Likelihood optimization failed to \"\n",
      "/opt/anaconda3/envs/csci_e83/lib/python3.9/site-packages/statsmodels/base/model.py:604: ConvergenceWarning: Maximum Likelihood optimization failed to converge. Check mle_retvals\n",
      "  warnings.warn(\"Maximum Likelihood optimization failed to \"\n",
      "/opt/anaconda3/envs/csci_e83/lib/python3.9/site-packages/statsmodels/base/model.py:604: ConvergenceWarning: Maximum Likelihood optimization failed to converge. Check mle_retvals\n",
      "  warnings.warn(\"Maximum Likelihood optimization failed to \"\n",
      "/opt/anaconda3/envs/csci_e83/lib/python3.9/site-packages/statsmodels/base/model.py:604: ConvergenceWarning: Maximum Likelihood optimization failed to converge. Check mle_retvals\n",
      "  warnings.warn(\"Maximum Likelihood optimization failed to \"\n",
      "/opt/anaconda3/envs/csci_e83/lib/python3.9/site-packages/statsmodels/base/model.py:604: ConvergenceWarning: Maximum Likelihood optimization failed to converge. Check mle_retvals\n",
      "  warnings.warn(\"Maximum Likelihood optimization failed to \"\n",
      "/opt/anaconda3/envs/csci_e83/lib/python3.9/site-packages/statsmodels/base/model.py:604: ConvergenceWarning: Maximum Likelihood optimization failed to converge. Check mle_retvals\n",
      "  warnings.warn(\"Maximum Likelihood optimization failed to \"\n",
      "/opt/anaconda3/envs/csci_e83/lib/python3.9/site-packages/statsmodels/base/model.py:604: ConvergenceWarning: Maximum Likelihood optimization failed to converge. Check mle_retvals\n",
      "  warnings.warn(\"Maximum Likelihood optimization failed to \"\n",
      "/opt/anaconda3/envs/csci_e83/lib/python3.9/site-packages/statsmodels/base/model.py:604: ConvergenceWarning: Maximum Likelihood optimization failed to converge. Check mle_retvals\n",
      "  warnings.warn(\"Maximum Likelihood optimization failed to \"\n",
      "/opt/anaconda3/envs/csci_e83/lib/python3.9/site-packages/statsmodels/base/model.py:604: ConvergenceWarning: Maximum Likelihood optimization failed to converge. Check mle_retvals\n",
      "  warnings.warn(\"Maximum Likelihood optimization failed to \"\n",
      "/opt/anaconda3/envs/csci_e83/lib/python3.9/site-packages/statsmodels/base/model.py:604: ConvergenceWarning: Maximum Likelihood optimization failed to converge. Check mle_retvals\n",
      "  warnings.warn(\"Maximum Likelihood optimization failed to \"\n",
      "/opt/anaconda3/envs/csci_e83/lib/python3.9/site-packages/statsmodels/base/model.py:604: ConvergenceWarning: Maximum Likelihood optimization failed to converge. Check mle_retvals\n",
      "  warnings.warn(\"Maximum Likelihood optimization failed to \"\n",
      "/opt/anaconda3/envs/csci_e83/lib/python3.9/site-packages/statsmodels/base/model.py:604: ConvergenceWarning: Maximum Likelihood optimization failed to converge. Check mle_retvals\n",
      "  warnings.warn(\"Maximum Likelihood optimization failed to \"\n",
      "/opt/anaconda3/envs/csci_e83/lib/python3.9/site-packages/statsmodels/base/model.py:604: ConvergenceWarning: Maximum Likelihood optimization failed to converge. Check mle_retvals\n",
      "  warnings.warn(\"Maximum Likelihood optimization failed to \"\n",
      "/opt/anaconda3/envs/csci_e83/lib/python3.9/site-packages/statsmodels/base/model.py:604: ConvergenceWarning: Maximum Likelihood optimization failed to converge. Check mle_retvals\n",
      "  warnings.warn(\"Maximum Likelihood optimization failed to \"\n",
      "/opt/anaconda3/envs/csci_e83/lib/python3.9/site-packages/statsmodels/base/model.py:604: ConvergenceWarning: Maximum Likelihood optimization failed to converge. Check mle_retvals\n",
      "  warnings.warn(\"Maximum Likelihood optimization failed to \"\n",
      "/opt/anaconda3/envs/csci_e83/lib/python3.9/site-packages/statsmodels/base/model.py:604: ConvergenceWarning: Maximum Likelihood optimization failed to converge. Check mle_retvals\n",
      "  warnings.warn(\"Maximum Likelihood optimization failed to \"\n",
      "/opt/anaconda3/envs/csci_e83/lib/python3.9/site-packages/statsmodels/base/model.py:604: ConvergenceWarning: Maximum Likelihood optimization failed to converge. Check mle_retvals\n",
      "  warnings.warn(\"Maximum Likelihood optimization failed to \"\n",
      "/opt/anaconda3/envs/csci_e83/lib/python3.9/site-packages/statsmodels/base/model.py:604: ConvergenceWarning: Maximum Likelihood optimization failed to converge. Check mle_retvals\n",
      "  warnings.warn(\"Maximum Likelihood optimization failed to \"\n",
      "/opt/anaconda3/envs/csci_e83/lib/python3.9/site-packages/statsmodels/base/model.py:604: ConvergenceWarning: Maximum Likelihood optimization failed to converge. Check mle_retvals\n",
      "  warnings.warn(\"Maximum Likelihood optimization failed to \"\n",
      "/opt/anaconda3/envs/csci_e83/lib/python3.9/site-packages/statsmodels/base/model.py:604: ConvergenceWarning: Maximum Likelihood optimization failed to converge. Check mle_retvals\n",
      "  warnings.warn(\"Maximum Likelihood optimization failed to \"\n",
      "/opt/anaconda3/envs/csci_e83/lib/python3.9/site-packages/statsmodels/base/model.py:604: ConvergenceWarning: Maximum Likelihood optimization failed to converge. Check mle_retvals\n",
      "  warnings.warn(\"Maximum Likelihood optimization failed to \"\n",
      "/opt/anaconda3/envs/csci_e83/lib/python3.9/site-packages/statsmodels/base/model.py:604: ConvergenceWarning: Maximum Likelihood optimization failed to converge. Check mle_retvals\n",
      "  warnings.warn(\"Maximum Likelihood optimization failed to \"\n",
      "/opt/anaconda3/envs/csci_e83/lib/python3.9/site-packages/statsmodels/base/model.py:604: ConvergenceWarning: Maximum Likelihood optimization failed to converge. Check mle_retvals\n",
      "  warnings.warn(\"Maximum Likelihood optimization failed to \"\n",
      "/opt/anaconda3/envs/csci_e83/lib/python3.9/site-packages/statsmodels/base/model.py:604: ConvergenceWarning: Maximum Likelihood optimization failed to converge. Check mle_retvals\n",
      "  warnings.warn(\"Maximum Likelihood optimization failed to \"\n",
      "/opt/anaconda3/envs/csci_e83/lib/python3.9/site-packages/statsmodels/base/model.py:604: ConvergenceWarning: Maximum Likelihood optimization failed to converge. Check mle_retvals\n",
      "  warnings.warn(\"Maximum Likelihood optimization failed to \"\n",
      "/opt/anaconda3/envs/csci_e83/lib/python3.9/site-packages/statsmodels/base/model.py:604: ConvergenceWarning: Maximum Likelihood optimization failed to converge. Check mle_retvals\n",
      "  warnings.warn(\"Maximum Likelihood optimization failed to \"\n",
      "/opt/anaconda3/envs/csci_e83/lib/python3.9/site-packages/statsmodels/base/model.py:604: ConvergenceWarning: Maximum Likelihood optimization failed to converge. Check mle_retvals\n",
      "  warnings.warn(\"Maximum Likelihood optimization failed to \"\n",
      "/opt/anaconda3/envs/csci_e83/lib/python3.9/site-packages/statsmodels/base/model.py:604: ConvergenceWarning: Maximum Likelihood optimization failed to converge. Check mle_retvals\n",
      "  warnings.warn(\"Maximum Likelihood optimization failed to \"\n",
      "/opt/anaconda3/envs/csci_e83/lib/python3.9/site-packages/statsmodels/base/model.py:604: ConvergenceWarning: Maximum Likelihood optimization failed to converge. Check mle_retvals\n",
      "  warnings.warn(\"Maximum Likelihood optimization failed to \"\n",
      "/opt/anaconda3/envs/csci_e83/lib/python3.9/site-packages/statsmodels/base/model.py:604: ConvergenceWarning: Maximum Likelihood optimization failed to converge. Check mle_retvals\n",
      "  warnings.warn(\"Maximum Likelihood optimization failed to \"\n",
      "/opt/anaconda3/envs/csci_e83/lib/python3.9/site-packages/statsmodels/base/model.py:604: ConvergenceWarning: Maximum Likelihood optimization failed to converge. Check mle_retvals\n",
      "  warnings.warn(\"Maximum Likelihood optimization failed to \"\n",
      "/opt/anaconda3/envs/csci_e83/lib/python3.9/site-packages/statsmodels/base/model.py:604: ConvergenceWarning: Maximum Likelihood optimization failed to converge. Check mle_retvals\n",
      "  warnings.warn(\"Maximum Likelihood optimization failed to \"\n",
      "/opt/anaconda3/envs/csci_e83/lib/python3.9/site-packages/statsmodels/base/model.py:604: ConvergenceWarning: Maximum Likelihood optimization failed to converge. Check mle_retvals\n",
      "  warnings.warn(\"Maximum Likelihood optimization failed to \"\n",
      "/opt/anaconda3/envs/csci_e83/lib/python3.9/site-packages/statsmodels/base/model.py:604: ConvergenceWarning: Maximum Likelihood optimization failed to converge. Check mle_retvals\n",
      "  warnings.warn(\"Maximum Likelihood optimization failed to \"\n",
      "/opt/anaconda3/envs/csci_e83/lib/python3.9/site-packages/statsmodels/base/model.py:604: ConvergenceWarning: Maximum Likelihood optimization failed to converge. Check mle_retvals\n",
      "  warnings.warn(\"Maximum Likelihood optimization failed to \"\n",
      "/opt/anaconda3/envs/csci_e83/lib/python3.9/site-packages/statsmodels/base/model.py:604: ConvergenceWarning: Maximum Likelihood optimization failed to converge. Check mle_retvals\n",
      "  warnings.warn(\"Maximum Likelihood optimization failed to \"\n",
      "/opt/anaconda3/envs/csci_e83/lib/python3.9/site-packages/statsmodels/base/model.py:604: ConvergenceWarning: Maximum Likelihood optimization failed to converge. Check mle_retvals\n",
      "  warnings.warn(\"Maximum Likelihood optimization failed to \"\n",
      "/opt/anaconda3/envs/csci_e83/lib/python3.9/site-packages/statsmodels/base/model.py:604: ConvergenceWarning: Maximum Likelihood optimization failed to converge. Check mle_retvals\n",
      "  warnings.warn(\"Maximum Likelihood optimization failed to \"\n",
      "/opt/anaconda3/envs/csci_e83/lib/python3.9/site-packages/statsmodels/base/model.py:604: ConvergenceWarning: Maximum Likelihood optimization failed to converge. Check mle_retvals\n",
      "  warnings.warn(\"Maximum Likelihood optimization failed to \"\n",
      "/opt/anaconda3/envs/csci_e83/lib/python3.9/site-packages/statsmodels/base/model.py:604: ConvergenceWarning: Maximum Likelihood optimization failed to converge. Check mle_retvals\n",
      "  warnings.warn(\"Maximum Likelihood optimization failed to \"\n",
      "/opt/anaconda3/envs/csci_e83/lib/python3.9/site-packages/statsmodels/base/model.py:604: ConvergenceWarning: Maximum Likelihood optimization failed to converge. Check mle_retvals\n",
      "  warnings.warn(\"Maximum Likelihood optimization failed to \"\n",
      "/opt/anaconda3/envs/csci_e83/lib/python3.9/site-packages/statsmodels/base/model.py:604: ConvergenceWarning: Maximum Likelihood optimization failed to converge. Check mle_retvals\n",
      "  warnings.warn(\"Maximum Likelihood optimization failed to \"\n",
      "/opt/anaconda3/envs/csci_e83/lib/python3.9/site-packages/statsmodels/base/model.py:604: ConvergenceWarning: Maximum Likelihood optimization failed to converge. Check mle_retvals\n",
      "  warnings.warn(\"Maximum Likelihood optimization failed to \"\n",
      "/opt/anaconda3/envs/csci_e83/lib/python3.9/site-packages/statsmodels/base/model.py:604: ConvergenceWarning: Maximum Likelihood optimization failed to converge. Check mle_retvals\n",
      "  warnings.warn(\"Maximum Likelihood optimization failed to \"\n",
      "/opt/anaconda3/envs/csci_e83/lib/python3.9/site-packages/statsmodels/base/model.py:604: ConvergenceWarning: Maximum Likelihood optimization failed to converge. Check mle_retvals\n",
      "  warnings.warn(\"Maximum Likelihood optimization failed to \"\n",
      "/opt/anaconda3/envs/csci_e83/lib/python3.9/site-packages/statsmodels/base/model.py:604: ConvergenceWarning: Maximum Likelihood optimization failed to converge. Check mle_retvals\n",
      "  warnings.warn(\"Maximum Likelihood optimization failed to \"\n",
      "/opt/anaconda3/envs/csci_e83/lib/python3.9/site-packages/statsmodels/base/model.py:604: ConvergenceWarning: Maximum Likelihood optimization failed to converge. Check mle_retvals\n",
      "  warnings.warn(\"Maximum Likelihood optimization failed to \"\n",
      "/opt/anaconda3/envs/csci_e83/lib/python3.9/site-packages/statsmodels/base/model.py:604: ConvergenceWarning: Maximum Likelihood optimization failed to converge. Check mle_retvals\n",
      "  warnings.warn(\"Maximum Likelihood optimization failed to \"\n",
      "/opt/anaconda3/envs/csci_e83/lib/python3.9/site-packages/statsmodels/base/model.py:604: ConvergenceWarning: Maximum Likelihood optimization failed to converge. Check mle_retvals\n",
      "  warnings.warn(\"Maximum Likelihood optimization failed to \"\n",
      "/opt/anaconda3/envs/csci_e83/lib/python3.9/site-packages/statsmodels/base/model.py:604: ConvergenceWarning: Maximum Likelihood optimization failed to converge. Check mle_retvals\n",
      "  warnings.warn(\"Maximum Likelihood optimization failed to \"\n"
     ]
    }
   ],
   "source": [
    "import warnings\n",
    "warnings.filterwarnings(action='once')\n",
    "forecasts = []\n",
    "for item_nbr, item_grp in items:\n",
    "    items_daily_sales = item_grp.groupby('date')['unit_sales'].mean()\n",
    "    date_index = pd.date_range('2017-04-26', '2017-08-15')\n",
    "    items_daily_sales = items_daily_sales.reindex(date_index,method='nearest')\n",
    "    model = sm.tsa.statespace.SARIMAX(items_daily_sales,\n",
    "                                      order=best_order, seasonal_order=best_seasonal_order, \n",
    "                                      enforce_invertibility=False, enforce_stationarity=False)\n",
    "    results = model.fit(disp=False)\n",
    "    forecast = results.get_forecast(steps=16)\n",
    "    df= pd.DataFrame(columns=['item_nbr','date','unit_sales'])\n",
    "    df['item_nbr']=[item_nbr] * forecast.predicted_mean.index.size\n",
    "    df['unit_sales']=forecast.predicted_mean.values\n",
    "    df['date']=forecast.predicted_mean.index\n",
    "    forecasts.append(df)"
   ]
  },
  {
   "cell_type": "code",
   "execution_count": 368,
   "id": "2f631d04-30dc-4645-85d6-00e686e08e7f",
   "metadata": {},
   "outputs": [],
   "source": [
    "f = pd.concat(forecasts)"
   ]
  },
  {
   "cell_type": "code",
   "execution_count": 331,
   "id": "d6dc97c7-a9a3-4840-9604-6a478c6f5ad9",
   "metadata": {},
   "outputs": [
    {
     "data": {
      "text/html": [
       "<div>\n",
       "<style scoped>\n",
       "    .dataframe tbody tr th:only-of-type {\n",
       "        vertical-align: middle;\n",
       "    }\n",
       "\n",
       "    .dataframe tbody tr th {\n",
       "        vertical-align: top;\n",
       "    }\n",
       "\n",
       "    .dataframe thead th {\n",
       "        text-align: right;\n",
       "    }\n",
       "</style>\n",
       "<table border=\"1\" class=\"dataframe\">\n",
       "  <thead>\n",
       "    <tr style=\"text-align: right;\">\n",
       "      <th></th>\n",
       "      <th>item_nbr</th>\n",
       "      <th>date</th>\n",
       "      <th>unit_sales</th>\n",
       "    </tr>\n",
       "  </thead>\n",
       "  <tbody>\n",
       "    <tr>\n",
       "      <th>0</th>\n",
       "      <td>96995</td>\n",
       "      <td>2017-08-16</td>\n",
       "      <td>0.990483</td>\n",
       "    </tr>\n",
       "    <tr>\n",
       "      <th>1</th>\n",
       "      <td>96995</td>\n",
       "      <td>2017-08-17</td>\n",
       "      <td>0.979141</td>\n",
       "    </tr>\n",
       "    <tr>\n",
       "      <th>2</th>\n",
       "      <td>96995</td>\n",
       "      <td>2017-08-18</td>\n",
       "      <td>0.967873</td>\n",
       "    </tr>\n",
       "  </tbody>\n",
       "</table>\n",
       "</div>"
      ],
      "text/plain": [
       "   item_nbr       date  unit_sales\n",
       "0     96995 2017-08-16    0.990483\n",
       "1     96995 2017-08-17    0.979141\n",
       "2     96995 2017-08-18    0.967873"
      ]
     },
     "execution_count": 331,
     "metadata": {},
     "output_type": "execute_result"
    }
   ],
   "source": [
    "f.head(3)"
   ]
  },
  {
   "cell_type": "code",
   "execution_count": 354,
   "id": "83fbce37-8e61-455d-b58d-784b18b23a35",
   "metadata": {},
   "outputs": [
    {
     "data": {
      "image/png": "[encoded data removed]",
      "text/plain": [
       "<Figure size 432x288 with 1 Axes>"
      ]
     },
     "metadata": {
      "needs_background": "light"
     },
     "output_type": "display_data"
    }
   ],
   "source": [
    "for item_nbr, item_grp in items:\n",
    "    if item_nbr == 103665:\n",
    "        items_daily_sales = item_grp.groupby('date')['unit_sales'].mean()\n",
    "        date_index = pd.date_range('2017-04-26', '2017-08-15')\n",
    "        items_daily_sales = items_daily_sales.reindex(date_index,method='nearest')\n",
    "        idx = pd.date_range('2017-08-16','2017-08-31')\n",
    "        f_temp = f[f.item_nbr==103665]['unit_sales']\n",
    "        f_temp.index = idx\n",
    "        items_daily_sales.plot()\n",
    "        f_temp.plot()"
   ]
  },
  {
   "cell_type": "code",
   "execution_count": 355,
   "id": "79d0bde3-024a-467c-bdaa-59fc9ef35a10",
   "metadata": {},
   "outputs": [
    {
     "data": {
      "text/plain": [
       "7    1968073\n",
       "0    1464091\n",
       "1     173111\n",
       "Name: item_nbr, dtype: int64"
      ]
     },
     "execution_count": 355,
     "metadata": {},
     "output_type": "execute_result"
    }
   ],
   "source": [
    "f.item_nbr.sample(3)"
   ]
  },
  {
   "cell_type": "code",
   "execution_count": 358,
   "id": "c2611bc2-3cc1-4c53-80c5-27c58c18ec9a",
   "metadata": {},
   "outputs": [
    {
     "data": {
      "image/png": "[encoded data removed]",
      "text/plain": [
       "<Figure size 432x288 with 1 Axes>"
      ]
     },
     "metadata": {
      "needs_background": "light"
     },
     "output_type": "display_data"
    }
   ],
   "source": [
    "for item_nbr, item_grp in items:\n",
    "    if item_nbr == 1464091:\n",
    "        items_daily_sales = item_grp.groupby('date')['unit_sales'].mean()\n",
    "        date_index = pd.date_range('2017-04-26', '2017-08-15')\n",
    "        items_daily_sales = items_daily_sales.reindex(date_index,method='nearest')\n",
    "        idx = pd.date_range('2017-08-16','2017-08-31')\n",
    "        f_temp = f[f.item_nbr==1464091]['unit_sales']\n",
    "        f_temp.index = idx\n",
    "        items_daily_sales.plot()\n",
    "        f_temp.plot()"
   ]
  },
  {
   "cell_type": "code",
   "execution_count": 346,
   "id": "165b28a5-59d9-421a-90f3-4c47a1b13062",
   "metadata": {},
   "outputs": [],
   "source": [
    "last_df = pd.merge(X_test,f,on=['item_nbr','date'], how='left')\n",
    "last_df['unit_sales']=last_df['unit_sales_y'].clip(lower=0)\n",
    "last_df = last_df.fillna(1)\n",
    "last_df.drop(['date', 'store_nbr', 'item_nbr', 'onpromotion', 'unit_sales_x', 'unit_sales_y'], axis=1, inplace=True)\n",
    "last_df.to_csv(\"sarimax.csv\", index=False)"
   ]
  },
  {
   "cell_type": "code",
   "execution_count": 343,
   "id": "014a84aa-5165-4a74-ad45-c527229e03a5",
   "metadata": {},
   "outputs": [
    {
     "data": {
      "text/plain": [
       "3370464"
      ]
     },
     "execution_count": 343,
     "metadata": {},
     "output_type": "execute_result"
    }
   ],
   "source": [
    "X_test.shape[0]"
   ]
  },
  {
   "cell_type": "code",
   "execution_count": 344,
   "id": "fd87a27c-9dee-4f0f-b2be-2011255ffff6",
   "metadata": {},
   "outputs": [
    {
     "data": {
      "text/plain": [
       "3370464"
      ]
     },
     "execution_count": 344,
     "metadata": {},
     "output_type": "execute_result"
    }
   ],
   "source": [
    "last_df.shape[0]"
   ]
  },
  {
   "cell_type": "code",
   "execution_count": 345,
   "id": "c7b4bd70-81f2-4007-ba8b-1f36fe6110df",
   "metadata": {},
   "outputs": [
    {
     "data": {
      "text/plain": [
       "Int64Index([      0,       1,       2,       3,       4,       5,       6,\n",
       "                  7,       8,       9,\n",
       "            ...\n",
       "            3370454, 3370455, 3370456, 3370457, 3370458, 3370459, 3370460,\n",
       "            3370461, 3370462, 3370463],\n",
       "           dtype='int64', length=3370464)"
      ]
     },
     "execution_count": 345,
     "metadata": {},
     "output_type": "execute_result"
    }
   ],
   "source": [
    "last_df.index"
   ]
  },
  {
   "cell_type": "code",
   "execution_count": 373,
   "id": "8e7e3bb5-0c66-41bc-ad8e-df3ef84beb30",
   "metadata": {},
   "outputs": [
    {
     "name": "stdout",
     "output_type": "stream",
     "text": [
      "         Values                       Metric\n",
      "0 -6.133443e+00               D-F Statistics\n",
      "1  8.295270e-08                      p-value\n",
      "2  0.000000e+00          number of lags used\n",
      "3  1.110000e+02  Number of observations used\n",
      "4 -3.490683e+00          critical value (1%)\n",
      "5 -2.887952e+00          critical value (5%)\n",
      "6 -2.580857e+00         critical value (10%)\n"
     ]
    },
    {
     "data": {
      "image/png": "[encoded data removed]",
      "text/plain": [
       "<Figure size 432x288 with 1 Axes>"
      ]
     },
     "metadata": {
      "needs_background": "light"
     },
     "output_type": "display_data"
    }
   ],
   "source": [
    "\n",
    "for item_nbr, item_grp in items:\n",
    "    if item_nbr == 1464091:\n",
    "        items_daily_sales = item_grp.groupby('date')['unit_sales'].mean()\n",
    "        date_index = pd.date_range('2017-04-26', '2017-08-15')\n",
    "        items_daily_sales = items_daily_sales.reindex(date_index,method='nearest')\n",
    "        test_stationarity(items_daily_sales)\n",
    "        break"
   ]
  },
  {
   "cell_type": "code",
   "execution_count": 374,
   "id": "7e844391-ee09-483f-a890-d686823c5e7b",
   "metadata": {},
   "outputs": [
    {
     "name": "stdout",
     "output_type": "stream",
     "text": [
      "         Values                       Metric\n",
      "0 -9.553202e+00               D-F Statistics\n",
      "1  2.539224e-16                      p-value\n",
      "2  0.000000e+00          number of lags used\n",
      "3  1.110000e+02  Number of observations used\n",
      "4 -3.490683e+00          critical value (1%)\n",
      "5 -2.887952e+00          critical value (5%)\n",
      "6 -2.580857e+00         critical value (10%)\n"
     ]
    },
    {
     "data": {
      "image/png": "[encoded data removed]",
      "text/plain": [
       "<Figure size 432x288 with 1 Axes>"
      ]
     },
     "metadata": {
      "needs_background": "light"
     },
     "output_type": "display_data"
    }
   ],
   "source": [
    "\n",
    "for item_nbr, item_grp in items:\n",
    "    if item_nbr == 103665:\n",
    "        items_daily_sales = item_grp.groupby('date')['unit_sales'].mean()\n",
    "        date_index = pd.date_range('2017-04-26', '2017-08-15')\n",
    "        items_daily_sales = items_daily_sales.reindex(date_index,method='nearest')\n",
    "        test_stationarity(items_daily_sales)\n",
    "        break"
   ]
  },
  {
   "cell_type": "code",
   "execution_count": 377,
   "id": "09ab4e53-d4e0-48aa-8e46-9039868e72b6",
   "metadata": {},
   "outputs": [
    {
     "name": "stdout",
     "output_type": "stream",
     "text": [
      "         Values                       Metric\n",
      "0 -1.055310e+01               D-F Statistics\n",
      "1  8.080590e-19                      p-value\n",
      "2  0.000000e+00          number of lags used\n",
      "3  1.110000e+02  Number of observations used\n",
      "4 -3.490683e+00          critical value (1%)\n",
      "5 -2.887952e+00          critical value (5%)\n",
      "6 -2.580857e+00         critical value (10%)\n"
     ]
    },
    {
     "data": {
      "image/png": "[encoded data removed]",
      "text/plain": [
       "<Figure size 432x288 with 1 Axes>"
      ]
     },
     "metadata": {
      "needs_background": "light"
     },
     "output_type": "display_data"
    },
    {
     "data": {
      "image/png": "[encoded data removed]",
      "text/plain": [
       "<Figure size 576x576 with 2 Axes>"
      ]
     },
     "metadata": {
      "needs_background": "light"
     },
     "output_type": "display_data"
    }
   ],
   "source": [
    "for item_nbr, item_grp in items:\n",
    "    if item_nbr == 105574:\n",
    "        items_daily_sales = item_grp.groupby('date')['unit_sales'].mean()\n",
    "        date_index = pd.date_range('2017-04-26', '2017-08-15')\n",
    "        items_daily_sales = items_daily_sales.reindex(date_index,method='nearest')\n",
    "        test_stationarity(items_daily_sales)\n",
    "        auto_partial_corr_plot(items_daily_sales)\n",
    "        break"
   ]
  },
  {
   "cell_type": "code",
   "execution_count": null,
   "id": "ad52af63-801e-4753-b1ec-f89ddb163346",
   "metadata": {},
   "outputs": [],
   "source": [
    "f_again = pd.concat(forecasts)\n",
    "onelast_df = pd.merge(X_test,f_again,on=['item_nbr','date'], how='left')\n",
    "onelast_df['unit_sales']=onelast_df['unit_sales_y'].clip(lower=0)\n",
    "onelast_df = onelast_df.fillna(1)\n",
    "onelast_df.drop(['date', 'store_nbr', 'item_nbr', 'onpromotion', 'unit_sales_x', 'unit_sales_y'], axis=1, inplace=True)\n",
    "onelast_df.to_csv(\"sarimax2.csv\", index=False)"
   ]
  },
  {
   "cell_type": "code",
   "execution_count": null,
   "id": "34953f5c-bb3f-484a-8f33-3bbfd0396ff4",
   "metadata": {},
   "outputs": [],
   "source": []
  }
 ],
 "metadata": {
  "kernelspec": {
   "display_name": "Python 3 (ipykernel)",
   "language": "python",
   "name": "python3"
  },
  "language_info": {
   "codemirror_mode": {
    "name": "ipython",
    "version": 3
   },
   "file_extension": ".py",
   "mimetype": "text/x-python",
   "name": "python",
   "nbconvert_exporter": "python",
   "pygments_lexer": "ipython3",
   "version": "3.9.0"
  }
 },
 "nbformat": 4,
 "nbformat_minor": 5
}
